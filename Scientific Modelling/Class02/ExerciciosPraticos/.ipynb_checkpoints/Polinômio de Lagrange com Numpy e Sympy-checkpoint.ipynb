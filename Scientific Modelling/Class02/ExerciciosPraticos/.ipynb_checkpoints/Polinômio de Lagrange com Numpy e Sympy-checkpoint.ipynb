{
 "cells": [
  {
   "cell_type": "markdown",
   "id": "5ecd3cc7-eeee-40c8-9ede-8b177ab897f2",
   "metadata": {},
   "source": [
    "## Importando as bibliotecas"
   ]
  },
  {
   "cell_type": "code",
   "execution_count": 4,
   "id": "39a104cf-d1d3-4940-bf61-c0542ac6deb9",
   "metadata": {},
   "outputs": [],
   "source": [
    "import numpy as np\n",
    "import sympy as sp"
   ]
  },
  {
   "cell_type": "code",
   "execution_count": 9,
   "id": "833bbc83-83eb-416c-8fd8-7c9addef5d24",
   "metadata": {},
   "outputs": [
    {
     "name": "stdout",
     "output_type": "stream",
     "text": [
      "{300: 2.4471, 304: 2.4829, 305: 2.4843, 307: 2.4871}\n"
     ]
    }
   ],
   "source": [
    "#Arrays do tipo numpy\n",
    "x = np.array([300, 304, 305, 307])\n",
    "y = np.array([2.4471, 2.4829, 2.4843, 2.4871])\n",
    "\n",
    "#Transformando em uma tupla\n",
    "lista_tuplas = zip(x, y)\n",
    "\n",
    "#Transformando em um dicionário\n",
    "dict_values = dict(lista_tuplas)\n",
    "print(dict_values)"
   ]
  },
  {
   "cell_type": "code",
   "execution_count": 20,
   "id": "48a0494f-ae9e-4c97-b9de-09b79480ce9b",
   "metadata": {},
   "outputs": [],
   "source": [
    "from sympy import *"
   ]
  },
  {
   "cell_type": "code",
   "execution_count": 25,
   "id": "79ea3505-52c6-4b9d-9fdc-943e8ba44739",
   "metadata": {},
   "outputs": [
    {
     "data": {
      "text/latex": [
       "$\\displaystyle L{\\left(0 \\right)} + L{\\left(1 \\right)} + L{\\left(2 \\right)}$"
      ],
      "text/plain": [
       "L(0) + L(1) + L(2)"
      ]
     },
     "execution_count": 25,
     "metadata": {},
     "output_type": "execute_result"
    }
   ],
   "source": [
    "#K = i\n",
    "#j = j\n",
    "#Yj * ((x - xj)*(x - xj))/((xk - xj)*(xk - xj))\n",
    "\n",
    "x_s = symbols(\"x\")\n",
    "\n",
    "f = Function('L')\n",
    "Sum(f(i), (i, 0, 2)).doit()"
   ]
  },
  {
   "cell_type": "code",
   "execution_count": 28,
   "id": "a2834583-f56f-4e10-9c60-d1a2bfcd0e34",
   "metadata": {},
   "outputs": [
    {
     "ename": "KeyError",
     "evalue": "0",
     "output_type": "error",
     "traceback": [
      "\u001b[1;31m---------------------------------------------------------------------------\u001b[0m",
      "\u001b[1;31mKeyError\u001b[0m                                  Traceback (most recent call last)",
      "Cell \u001b[1;32mIn[28], line 2\u001b[0m\n\u001b[0;32m      1\u001b[0m \u001b[38;5;28;01mfor\u001b[39;00m key, value \u001b[38;5;129;01min\u001b[39;00m \u001b[38;5;28menumerate\u001b[39m(dict_values):\n\u001b[1;32m----> 2\u001b[0m     x_s\u001b[38;5;241m*\u001b[39m\u001b[43mdict_values\u001b[49m\u001b[43m[\u001b[49m\u001b[43mkey\u001b[49m\u001b[43m]\u001b[49m\n",
      "\u001b[1;31mKeyError\u001b[0m: 0"
     ]
    }
   ],
   "source": [
    "for key, value in enumerate(dict_values):\n",
    "    x_s*dict_values[key]"
   ]
  },
  {
   "cell_type": "code",
   "execution_count": null,
   "id": "bb34eac8-0356-4722-a563-280b79a42d91",
   "metadata": {},
   "outputs": [],
   "source": []
  }
 ],
 "metadata": {
  "kernelspec": {
   "display_name": "Python 3 (ipykernel)",
   "language": "python",
   "name": "python3"
  },
  "language_info": {
   "codemirror_mode": {
    "name": "ipython",
    "version": 3
   },
   "file_extension": ".py",
   "mimetype": "text/x-python",
   "name": "python",
   "nbconvert_exporter": "python",
   "pygments_lexer": "ipython3",
   "version": "3.12.2"
  }
 },
 "nbformat": 4,
 "nbformat_minor": 5
}
