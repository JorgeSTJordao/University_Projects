{
 "cells": [
  {
   "cell_type": "code",
   "execution_count": 22,
   "id": "b2b3a019-2ef0-42a7-be2f-6f56623e2d16",
   "metadata": {},
   "outputs": [],
   "source": [
    "#OBS: ESSE CÓDIGO DEVE SER EXECUTADO SOMENTE NO PYCHARM\n",
    "from memory_profiler import profile\n",
    "\n",
    "@profile\n",
    "def juros_compostos(jc, limit, t):\n",
    "    if t == limit:\n",
    "        return jc\n",
    "    else:\n",
    "        jc += jc * 0.03\n",
    "        print(jc)\n",
    "        return jc + juros_compostos(jc, limit, t + 1)\n",
    "\n",
    "if __name__ == '__main__':\n",
    "    juros_compostos, (10000, 8, 0)"
   ]
  }
 ],
 "metadata": {
  "kernelspec": {
   "display_name": "Python 3 (ipykernel)",
   "language": "python",
   "name": "python3"
  },
  "language_info": {
   "codemirror_mode": {
    "name": "ipython",
    "version": 3
   },
   "file_extension": ".py",
   "mimetype": "text/x-python",
   "name": "python",
   "nbconvert_exporter": "python",
   "pygments_lexer": "ipython3",
   "version": "3.11.4"
  }
 },
 "nbformat": 4,
 "nbformat_minor": 5
}
