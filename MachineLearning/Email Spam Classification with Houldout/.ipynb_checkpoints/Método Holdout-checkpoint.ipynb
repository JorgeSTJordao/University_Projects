{
 "cells": [
  {
   "cell_type": "code",
   "execution_count": 2,
   "metadata": {
    "id": "KrtjQLJvVglM",
    "scrolled": true
   },
   "outputs": [
    {
     "name": "stderr",
     "output_type": "stream",
     "text": [
      "C:\\Users\\jorge\\anaconda3\\lib\\site-packages\\scipy\\__init__.py:146: UserWarning: A NumPy version >=1.16.5 and <1.23.0 is required for this version of SciPy (detected version 1.23.0\n",
      "  warnings.warn(f\"A NumPy version >={np_minversion} and <{np_maxversion}\"\n"
     ]
    }
   ],
   "source": [
    "# Treinamento de classificar de emails: spam e não_spam\n",
    "# Avalição usando Holdout\n",
    "# Indutor Utilizado: KNN\n",
    "# Ajuste de parâmetros com GriSearchCV\n",
    "\n",
    "import pandas as pd\n",
    "import numpy as np\n",
    "from sklearn.neighbors import KNeighborsClassifier \n",
    "from sklearn.metrics import confusion_matrix, precision_score, recall_score, f1_score, ConfusionMatrixDisplay\n",
    "from sklearn.model_selection import GridSearchCV, train_test_split "
   ]
  },
  {
   "cell_type": "code",
   "execution_count": 5,
   "metadata": {
    "colab": {
     "base_uri": "https://localhost:8080/"
    },
    "id": "NpA7nISDqdVz",
    "outputId": "2a2b807a-7789-421a-881c-41a305fc93db"
   },
   "outputs": [
    {
     "name": "stdout",
     "output_type": "stream",
     "text": [
      "(4601, 57)\n",
      "(4601,)\n"
     ]
    }
   ],
   "source": [
    "# Definindo as instâncias e colunas\n",
    "df = pd.read_csv(\"spambase.csv\", header=None) \n",
    "instances = df.values\n",
    "features = df.columns\n",
    "\n",
    "# Separando atributos de entrada em X_all e atributo alvo em y_all\n",
    "X_all= instances[:,0:57]\n",
    "y_all= instances[:,57] \n",
    "\n",
    "print(X_all.shape)\n",
    "print(y_all.shape)"
   ]
  },
  {
   "cell_type": "code",
   "execution_count": 4,
   "metadata": {
    "colab": {
     "base_uri": "https://localhost:8080/",
     "height": 558
    },
    "id": "VW-6mWaefH4Q",
    "outputId": "d5a97db8-4fb2-4b63-bb7b-f4aab95ff510"
   },
   "outputs": [
    {
     "name": "stdout",
     "output_type": "stream",
     "text": [
      "Melhores parâmetros: {'n_neighbors': 7, 'weights': 'distance'}\n",
      "Acurácia: 0.80739 \n",
      "Precisão: 0.798\n",
      "Revocação: 0.799\n",
      "F1: 0.799\n"
     ]
    },
    {
     "data": {
      "text/plain": [
       "<sklearn.metrics._plot.confusion_matrix.ConfusionMatrixDisplay at 0x1783dc230d0>"
      ]
     },
     "execution_count": 4,
     "metadata": {},
     "output_type": "execute_result"
    },
    {
     "data": {
      "image/png": "[encoded data removed]",
      "text/plain": [
       "<Figure size 432x288 with 2 Axes>"
      ]
     },
     "metadata": {
      "needs_background": "light"
     },
     "output_type": "display_data"
    }
   ],
   "source": [
    "# Treinamento do modelo e parametrização\n",
    "\n",
    "# A cada execução a base é recomposta (volta ao conteúdo original)\n",
    "X = X_all\n",
    "y = y_all\n",
    "\n",
    "# Definição dos parâmetros a serem avaliados no KNN\n",
    "# O \"weight\" entra não apenas na questão da distância euclidiana, mas também de algum parâmetro que indique a proximidade\n",
    "param_knn = [{'n_neighbors':[3,5,7, 9, 11], 'weights': ['uniform', 'distance']}]\n",
    "\n",
    "# Separando uma parte dos dados para teste\n",
    "X, X_test, y, y_test = train_test_split(X,y, train_size=0.7, random_state=46, stratify=y)\n",
    "\n",
    "# Separando uma parte dos dados para validação (usaremos no GridSearchCV)\n",
    "X, X_val, y, y_val = train_test_split(X,y, train_size=0.8, random_state=46, stratify=y)\n",
    "\n",
    "# Definindo o modelo (classificador KNN)\n",
    "clf = KNeighborsClassifier()\n",
    "\n",
    "# Usando GridSearch para definição dos parâmetros do KNN\n",
    "gs=GridSearchCV(clf, param_knn, cv=5)\n",
    "\n",
    "# Analisa os melhores parâmetros\n",
    "gs.fit(X_val, y_val)\n",
    "clf=gs.best_estimator_\n",
    "print(\"Melhores parâmetros:\", gs.best_params_)\n",
    "\n",
    "# Treinando o modelo já com os parâmetros definidos\n",
    "clf.fit(X,y)\n",
    "\n",
    "# Testando o modelo. Esta função retorna a classe de cada exemplo de teste\n",
    "ypred=clf.predict(X_test)\n",
    "\n",
    "# Calculando acurácia do modelo (taxa de certo)\n",
    "score=clf.score(X_test, y_test)\n",
    "print(\"Acurácia: %.5f \" % score)\n",
    "\n",
    "# Calculando a precisão do modelo\n",
    "precision=precision_score(y_test, ypred, average=\"macro\")\n",
    "print(\"Precisão: %.3f\" % precision)\n",
    "\n",
    "# Calculando revocação do modelo\n",
    "recall=recall_score(y_test, ypred, average=\"macro\")\n",
    "print(\"Revocação: %.3f\" % recall)\n",
    "\n",
    "# Calculando a métrica f1 (média harmônica entre precisão e recall)\n",
    "f1=f1_score(y_test, ypred, average=\"macro\")\n",
    "print(\"F1: %.3f\" % f1)\n",
    "\n",
    "# Matriz de Confusão resultante da classificação\n",
    "ma=confusion_matrix(y_test, ypred)\n",
    "disp=ConfusionMatrixDisplay(ma, display_labels=['no_spam', 'spam'])\n",
    "disp.plot()"
   ]
  }
 ],
 "metadata": {
  "colab": {
   "provenance": []
  },
  "kernelspec": {
   "display_name": "Python 3 (ipykernel)",
   "language": "python",
   "name": "python3"
  },
  "language_info": {
   "codemirror_mode": {
    "name": "ipython",
    "version": 3
   },
   "file_extension": ".py",
   "mimetype": "text/x-python",
   "name": "python",
   "nbconvert_exporter": "python",
   "pygments_lexer": "ipython3",
   "version": "3.9.7"
  }
 },
 "nbformat": 4,
 "nbformat_minor": 1
}
