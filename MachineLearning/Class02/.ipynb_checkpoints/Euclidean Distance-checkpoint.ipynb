{
 "cells": [
  {
   "cell_type": "code",
   "execution_count": 1,
   "metadata": {
    "colab": {
     "base_uri": "https://localhost:8080/"
    },
    "id": "pMv3Oh39UbpH",
    "outputId": "94ae5b68-afa7-4886-cb0e-3113e8870d5e"
   },
   "outputs": [
    {
     "name": "stdout",
     "output_type": "stream",
     "text": [
      "Vetores Diferentes:  8.54400374531753\n",
      "Vetores Iguais:  0.0\n"
     ]
    }
   ],
   "source": [
    "# Exemplo cálculo distância Euclidiana entre dois vetores\n",
    "import numpy as np\n",
    "\n",
    "# Vetores diferentes\n",
    "# Elementos de um objeto \"i\"\n",
    "# Elementos de um objeto \"j\"\n",
    "Xi = np.array((5,6,3,2,4)) \n",
    "Xj = np.array((1,2,5,1,10)) \n",
    "sum_sq = np.sum(np.square(Xi - Xj))\n",
    "print(\"Vetores Diferentes: \", np.sqrt(sum_sq))\n",
    "\n",
    "# Vetores iguais\n",
    "Xi = np.array((5,6,3,2,4))\n",
    "Xj = np.array((5,6,3,2,4))\n",
    "sum_sq = np.sum(np.square(Xi - Xj))\n",
    "print(\"Vetores Iguais: \", np.sqrt(sum_sq))\n"
   ]
  },
  {
   "cell_type": "code",
   "execution_count": null,
   "metadata": {},
   "outputs": [],
   "source": []
  }
 ],
 "metadata": {
  "colab": {
   "provenance": []
  },
  "kernelspec": {
   "display_name": "Python 3 (ipykernel)",
   "language": "python",
   "name": "python3"
  },
  "language_info": {
   "codemirror_mode": {
    "name": "ipython",
    "version": 3
   },
   "file_extension": ".py",
   "mimetype": "text/x-python",
   "name": "python",
   "nbconvert_exporter": "python",
   "pygments_lexer": "ipython3",
   "version": "3.9.7"
  }
 },
 "nbformat": 4,
 "nbformat_minor": 1
}
