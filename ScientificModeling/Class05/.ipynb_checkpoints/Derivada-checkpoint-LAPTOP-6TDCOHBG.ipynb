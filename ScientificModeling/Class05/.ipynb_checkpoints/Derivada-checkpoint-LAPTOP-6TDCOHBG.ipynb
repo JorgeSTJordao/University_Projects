{
 "cells": [
  {
   "cell_type": "code",
   "execution_count": 9,
   "id": "9dc75c92-8fbb-4ac7-bab8-17faedd5ec31",
   "metadata": {},
   "outputs": [],
   "source": [
    "from sympy import *\n",
    "import matplotlib.pyplot as plt\n",
    "import numpy as np"
   ]
  },
  {
   "cell_type": "code",
   "execution_count": 11,
   "id": "b646150c-d4cb-421b-9c27-7c5f01ee1efe",
   "metadata": {},
   "outputs": [],
   "source": [
    "x = symbols('x')"
   ]
  },
  {
   "cell_type": "markdown",
   "id": "e9fa5028-a7c7-47c1-8de1-c9ab2026f541",
   "metadata": {},
   "source": [
    "### Derivação "
   ]
  },
  {
   "cell_type": "markdown",
   "id": "31e06921-8d87-4306-9dab-7b5761cebd16",
   "metadata": {},
   "source": [
    "1ª Função"
   ]
  },
  {
   "cell_type": "code",
   "execution_count": 5,
   "id": "e00e150d-5219-48e5-bb83-4a0f0b8cf5c4",
   "metadata": {},
   "outputs": [
    {
     "data": {
      "text/latex": [
       "$\\displaystyle 0$"
      ],
      "text/plain": [
       "0"
      ]
     },
     "execution_count": 5,
     "metadata": {},
     "output_type": "execute_result"
    }
   ],
   "source": [
    "def f(x):\n",
    "    return 2**3\n",
    "\n",
    "diff(f(x))"
   ]
  },
  {
   "cell_type": "markdown",
   "id": "adf58495-796b-4cf7-b463-5b733bcf0147",
   "metadata": {},
   "source": [
    "2ª Função"
   ]
  },
  {
   "cell_type": "code",
   "execution_count": null,
   "id": "3f8df1f9-0b21-4a9e-88ff-40346fb39f00",
   "metadata": {},
   "outputs": [],
   "source": [
    "def f(x):\n",
    "    return x**3\n",
    "\n",
    "diff(f(x))"
   ]
  },
  {
   "cell_type": "markdown",
   "id": "b1448ba4-aec8-410c-a024-41435aee1b19",
   "metadata": {},
   "source": [
    "3ª Função"
   ]
  },
  {
   "cell_type": "code",
   "execution_count": 6,
   "id": "338c3edf-cf80-40b5-a444-fef3d8eb74c2",
   "metadata": {},
   "outputs": [
    {
     "data": {
      "text/latex": [
       "$\\displaystyle 15 x^{2}$"
      ],
      "text/plain": [
       "15*x**2"
      ]
     },
     "execution_count": 6,
     "metadata": {},
     "output_type": "execute_result"
    }
   ],
   "source": [
    "def f(x):\n",
    "    return 10*x**3/2\n",
    "\n",
    "diff(f(x))"
   ]
  },
  {
   "cell_type": "code",
   "execution_count": 10,
   "id": "93a2402e-c494-425e-8921-560580dd196d",
   "metadata": {},
   "outputs": [
    {
     "data": {
      "text/plain": [
       "[<matplotlib.lines.Line2D at 0x2ad69515a50>]"
      ]
     },
     "execution_count": 10,
     "metadata": {},
     "output_type": "execute_result"
    },
    {
     "data": {
      "image/png": "[encoded data removed]",
      "text/plain": [
       "<Figure size 640x480 with 1 Axes>"
      ]
     },
     "metadata": {},
     "output_type": "display_data"
    }
   ],
   "source": [
    "def f(x):\n",
    "    return x**3 + 2*x**2 + x - 1\n",
    "\n",
    "x = np.linspace(-15, 15, 100)\n",
    "y = f(x)\n",
    "\n",
    "plt.plot(x, y)"
   ]
  },
  {
   "cell_type": "markdown",
   "id": "810b2a66-50a8-407a-9a0f-a1c203657c0c",
   "metadata": {},
   "source": [
    "### Técnicas de Derivação"
   ]
  },
  {
   "cell_type": "code",
   "execution_count": 12,
   "id": "faf4ab10-0bd1-4bf4-8791-3673a199845e",
   "metadata": {},
   "outputs": [],
   "source": [
    "x = symbols('x')"
   ]
  },
  {
   "cell_type": "markdown",
   "id": "bae68612-16db-45b7-b535-a838f84f22e0",
   "metadata": {},
   "source": [
    "Soma de derivadas"
   ]
  },
  {
   "cell_type": "code",
   "execution_count": 13,
   "id": "18c159e8-7207-44d6-a623-321d2ca5c6da",
   "metadata": {},
   "outputs": [
    {
     "data": {
      "text/latex": [
       "$\\displaystyle 10 x^{4} + 18 x^{2}$"
      ],
      "text/plain": [
       "10*x**4 + 18*x**2"
      ]
     },
     "execution_count": 13,
     "metadata": {},
     "output_type": "execute_result"
    }
   ],
   "source": [
    "def f(x):\n",
    "    return 2*x**5 + 6*x**3\n",
    "\n",
    "diff(f(x))\n",
    "\n",
    "#40x^3 + 36x\n",
    "#120x^2 + 36"
   ]
  },
  {
   "cell_type": "code",
   "execution_count": 14,
   "id": "f9ba3fc4-b973-4d7c-b8aa-5ed5fc2d27ab",
   "metadata": {},
   "outputs": [
    {
     "data": {
      "text/latex": [
       "$\\displaystyle x^{3} + 2 x + \\left(x - 5\\right) \\left(3 x^{2} + 2\\right)$"
      ],
      "text/plain": [
       "x**3 + 2*x + (x - 5)*(3*x**2 + 2)"
      ]
     },
     "execution_count": 14,
     "metadata": {},
     "output_type": "execute_result"
    }
   ],
   "source": [
    "def f(x):\n",
    "    return (x**3 + 2*x)*(x - 5)\n",
    "\n",
    "diff(f(x))"
   ]
  },
  {
   "cell_type": "code",
   "execution_count": 16,
   "id": "539c6e67-831c-48a7-a701-81dfe9e46040",
   "metadata": {},
   "outputs": [
    {
     "data": {
      "text/latex": [
       "$\\displaystyle - \\frac{2 x \\left(x^{3} + x\\right)}{\\left(x^{2} - 1\\right)^{2}} + \\frac{3 x^{2} + 1}{x^{2} - 1}$"
      ],
      "text/plain": [
       "-2*x*(x**3 + x)/(x**2 - 1)**2 + (3*x**2 + 1)/(x**2 - 1)"
      ]
     },
     "execution_count": 16,
     "metadata": {},
     "output_type": "execute_result"
    }
   ],
   "source": [
    "def f(x):\n",
    "    return (x**3 + x)/(x** 2 - 1)\n",
    "\n",
    "diff(f(x))"
   ]
  },
  {
   "cell_type": "code",
   "execution_count": 23,
   "id": "14d63a1a-830a-497f-b66c-037f205333ec",
   "metadata": {},
   "outputs": [
    {
     "data": {
      "text/latex": [
       "$\\displaystyle 6 x \\left(x^{2} + 1\\right)^{2}$"
      ],
      "text/plain": [
       "6*x*(x**2 + 1)**2"
      ]
     },
     "execution_count": 23,
     "metadata": {},
     "output_type": "execute_result"
    }
   ],
   "source": [
    "def f(x):\n",
    "    return (x**2 + 1)**3\n",
    "\n",
    "diff(f(x))"
   ]
  },
  {
   "cell_type": "markdown",
   "id": "5001d43c-c919-4902-adb1-ff8050376406",
   "metadata": {},
   "source": [
    "Primeiro devemos analisar a função e identificar qual técnica melhor se aplica para sua resolução\n",
    "\n",
    "$(x^2 + 1)^3$\n",
    "\n",
    "Podemos ver que se trata de uma função na forma composta, o que permite utilizar da regra da cadeia\n",
    "\n",
    "Logo:\n",
    "\n",
    "$u = (x^2 + 1)$\n",
    "\n",
    "$g(x) = u^3$\n",
    "\n",
    "A partir disso, iremos calcular a função que existe no interior\n",
    "\n",
    "$\\frac{dy}{dx}u = 2x$\n",
    "\n",
    "Agora a partir de $g(x)$\n",
    "\n",
    "$g(x) = 3u^2$\n",
    "\n",
    "Fazendo a substituição de $u$, teremos o seguinte resultado\n",
    "\n",
    "$$\\frac{dy}{dx}g(x) = 3(2x)^2 = 3(4x^2) = 12x^2$$"
   ]
  },
  {
   "cell_type": "code",
   "execution_count": 20,
   "id": "1d89ecd0-eac9-4026-880a-bc2a4819caf0",
   "metadata": {},
   "outputs": [
    {
     "data": {
      "text/latex": [
       "$\\displaystyle \\frac{2.5}{\\left(5 x + 8\\right)^{0.5}}$"
      ],
      "text/plain": [
       "2.5/(5*x + 8)**0.5"
      ]
     },
     "execution_count": 20,
     "metadata": {},
     "output_type": "execute_result"
    }
   ],
   "source": [
    "def f(x):\n",
    "    return (5*x + 8)**0.5\n",
    "\n",
    "diff(f(x))"
   ]
  },
  {
   "cell_type": "code",
   "execution_count": 24,
   "id": "8885b231-2a17-4ca1-9d78-c929b24d4d79",
   "metadata": {},
   "outputs": [
    {
     "data": {
      "text/latex": [
       "$\\displaystyle \\frac{6 - 16 x}{\\left(4 x^{2} - 3 x + 2\\right)^{3}}$"
      ],
      "text/plain": [
       "(6 - 16*x)/(4*x**2 - 3*x + 2)**3"
      ]
     },
     "execution_count": 24,
     "metadata": {},
     "output_type": "execute_result"
    }
   ],
   "source": [
    "def f(x):\n",
    "    return (4*x**2 - 3*x + 2)**-2\n",
    "\n",
    "diff(f(x))"
   ]
  },
  {
   "cell_type": "markdown",
   "id": "c5a3aae7-01aa-4af1-862e-c847d6c00a9a",
   "metadata": {},
   "source": [
    "Iniciando o cálculo:\n",
    "\n",
    "$(\\frac{1}{4x^2 - 3x + 2})^2$\n",
    "\n",
    "Calculamos pela regra do quociente\n",
    "\n",
    "$\\frac{-8x + 3}{(4x^2 - 3x + 2)^2}$\n",
    "\n",
    "$\\frac{-16x + 6}{(4x^2 - 3x + 2)^2}$"
   ]
  },
  {
   "cell_type": "code",
   "execution_count": null,
   "id": "03caffac-1894-43ca-a03d-00851c61fed2",
   "metadata": {},
   "outputs": [],
   "source": []
  }
 ],
 "metadata": {
  "kernelspec": {
   "display_name": "Python 3 (ipykernel)",
   "language": "python",
   "name": "python3"
  },
  "language_info": {
   "codemirror_mode": {
    "name": "ipython",
    "version": 3
   },
   "file_extension": ".py",
   "mimetype": "text/x-python",
   "name": "python",
   "nbconvert_exporter": "python",
   "pygments_lexer": "ipython3",
   "version": "3.11.7"
  }
 },
 "nbformat": 4,
 "nbformat_minor": 5
}
