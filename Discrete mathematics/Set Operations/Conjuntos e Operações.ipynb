{
 "cells": [
  {
   "cell_type": "markdown",
   "id": "74a96c49",
   "metadata": {},
   "source": [
    "- <b>PUCPR - PONTIFÍCIA UNIVERSIDADE CATÓLICA DO PARANÁ</b>\n",
    "- <b>MEMBROS</b> \n",
    "    - Jorge Samuel Teixeira Jordão \n",
    "    - Ricardo Ryu Magalhães Makino \n",
    "<br>\n",
    "- <b>CURSO</b>: \n",
    "    - Ciência da Computação | 2º Período | Diurno"
   ]
  },
  {
   "cell_type": "markdown",
   "id": "bfb9463b",
   "metadata": {},
   "source": [
    "# PROGRAMA PRINCIPAL"
   ]
  },
  {
   "cell_type": "code",
   "execution_count": 201,
   "id": "660784aa",
   "metadata": {},
   "outputs": [
    {
     "name": "stdout",
     "output_type": "stream",
     "text": [
      "União: conjunto 1 {'67', '5', '3', '7'}. conjunto 2 {'1', '3', '4', '2'}. Resultado: {'2', '67', '1', '5', '4', '3', '7'}\n",
      "\n",
      "Interseção: conjunto 1 {'2', '1', '5', '4', '3'}. conjunto 2 {'5', '4'}. Resultado: {'5', '4'}\n",
      "\n",
      "Diferença: conjunto 1 {'1', 'A', 'C', '34'}. conjunto 2 {'A', 'D', 'C', '23'}. Resultado: {'1', '34'}\n",
      "\n",
      "Plano Cartesiano: conjunto 1 {'R', '5', 'A', '4', 'B', '3'}. conjunto 2 {'1', 'D', 'C', 'B', 'I'}. Resultado: [['R', '1'], ['R', 'D'], ['R', 'C'], ['R', 'B'], ['R', 'I'], ['5', '1'], ['5', 'D'], ['5', 'C'], ['5', 'B'], ['5', 'I'], ['A', '1'], ['A', 'D'], ['A', 'C'], ['A', 'B'], ['A', 'I'], ['4', '1'], ['4', 'D'], ['4', 'C'], ['4', 'B'], ['4', 'I'], ['B', '1'], ['B', 'D'], ['B', 'C'], ['B', 'B'], ['B', 'I'], ['3', '1'], ['3', 'D'], ['3', 'C'], ['3', 'B'], ['3', 'I']]\n",
      "\n",
      "União: conjunto 1 {'67', '3', '7', '2'}. conjunto 2 {'1', '3', '4', '2'}. Resultado: {'2', '67', '1', '4', '3', '7'}\n",
      "\n"
     ]
    }
   ],
   "source": [
    "# Selecione um dos arquivos \n",
    "arquivo = open(\"arquivo1.txt\", \"r\")\n",
    "dados = arquivo.read()\n",
    "linhas = dados.splitlines()\n",
    "arquivo.close()\n",
    "\n",
    "i = 1\n",
    "\n",
    "# Operações de conjuntos\n",
    "while i < len(linhas):\n",
    "    \n",
    "    # União\n",
    "    if \"U\" in linhas[i]:\n",
    "        cnj1 = linhas[i + 1].split(\",\")\n",
    "        cnj2 = linhas[i + 2].split(\",\")\n",
    "        print(\"União: conjunto 1 {}. conjunto 2 {}. Resultado: {}\\n\".format(set(cnj1), set(cnj2), set(cnj1).union(set(cnj2)))) \n",
    "         \n",
    "    # Interseção   \n",
    "    elif \"I\" in linhas[i]:\n",
    "        cnj1 = linhas[i + 1].split(\",\") \n",
    "        cnj2 = linhas[i + 2].split(\",\")\n",
    "        print(\"Interseção: conjunto 1 {}. conjunto 2 {}. Resultado: {}\\n\".format(set(cnj1), set(cnj2), set(cnj1).intersection(set(cnj2)))) \n",
    "      \n",
    "    # Diferença\n",
    "    elif \"D\" in linhas[i]:\n",
    "        cnj1 = linhas[i + 1].split(\",\")\n",
    "        cnj2 = linhas[i + 2].split(\",\")\n",
    "        print(\"Diferença: conjunto 1 {}. conjunto 2 {}. Resultado: {}\\n\".format(set(cnj1), set(cnj2), set(cnj1).difference(set(cnj2)))) \n",
    "        \n",
    "    # Plano Cartesiano\n",
    "    else:\n",
    "        set1 = []\n",
    "        set2 = []\n",
    "        sett = []\n",
    "        cnj1 = list(set(linhas[i + 1].split(\",\")))\n",
    "        cnj2 = list(set(linhas[i + 2].split(\",\")))\n",
    "        \n",
    "        for w in range(len(cnj1)):\n",
    "            set1.append([cnj1[w]])\n",
    "            \n",
    "        for w in range(len(cnj2)):\n",
    "            set2.append([cnj2[w]])\n",
    "    \n",
    "        for w in range(len(set1)):\n",
    "            for j in range(len(set2)):\n",
    "                sett.append(set1[w] + set2[j])\n",
    "        print(\"Plano Cartesiano: conjunto 1 {}. conjunto 2 {}. Resultado: {}\\n\".format(set(cnj1), set(cnj2), sett)) \n",
    "        \n",
    "    i += 3"
   ]
  },
  {
   "cell_type": "markdown",
   "id": "adc7ffaf",
   "metadata": {},
   "source": [
    "## CRIE  SEU PRÓPRIO ARQUIVO (Obs: programa adicional)"
   ]
  },
  {
   "cell_type": "code",
   "execution_count": null,
   "id": "ecb0d733",
   "metadata": {},
   "outputs": [],
   "source": [
    "def criarConjuntos(fcnj1, fcnj2, foperacao):\n",
    "        listaTipos = ['U', 'I', 'D', 'C']\n",
    "        arquivo.write(f'\\n{listaTipos[foperacao - 1]}\\n')\n",
    "        arquivo.write(','.join(fcnj1) + \"\\n\")\n",
    "        arquivo.write(','.join(fcnj2))\n",
    "        \n",
    "arquivo = open(\"arquivo.txt\", \"w\")\n",
    "numero_op = int(input(\"Digite o nº de operações que deseja realizar: \"))\n",
    "f.write(f'{numero_op}')\n",
    "\n",
    "for i in range(numero_op):\n",
    "    \n",
    "    # Selecione a operação\n",
    "    print(\"\\n1 - União\\n\")\n",
    "    print(\"2 - Interseção\\n\")\n",
    "    print(\"3 - Diferença\\n\")\n",
    "    print(\"4 - Produto Cartesiano\")\n",
    "    operacao = int(input(\"Selecione a operação: \"))\n",
    "    \n",
    "    # Digite os elementos tanto do 1º conjunto quanto do 2º\n",
    "    nums1 = int(input(\"Digite o nº de elementos do 1º conjunto: \"))\n",
    "    nums2 = int(input(\"Digite o nº de elementos do 2º conjunto: \"))\n",
    "\n",
    "    # Transforme os em um conjuntos\n",
    "    cnj1 = []\n",
    "    cnj2 = []\n",
    "    \n",
    "    for i in range(nums1):\n",
    "        elem = input(f\"Digite o {i + 1}º elemento 1º conjunto: \")\n",
    "        cnj1.append(elem)\n",
    "  \n",
    "    for i in range(nums2):\n",
    "        elem = input(f\"Digite o {i + 1}º elemento do 2º conjunto: \")\n",
    "        cnj2.append(elem)\n",
    "        \n",
    "    # União\n",
    "    if operacao == 1:\n",
    "        criarConjuntos(cnj1, cnj2, operacao)\n",
    "        \n",
    "    # Interseção \n",
    "    elif operacao == 2:\n",
    "        criarConjuntos(cnj1, cnj2, operacao)\n",
    "        \n",
    "    # Diferença\n",
    "    elif operacao == 3:\n",
    "        criarConjuntos(cnj1, cnj2, operacao)\n",
    "       \n",
    "    # Cartesiano\n",
    "    else:\n",
    "        criarConjuntos(cnj1, cnj2, operacao)\n",
    "\n",
    "arquivo.close()"
   ]
  }
 ],
 "metadata": {
  "kernelspec": {
   "display_name": "Python 3 (ipykernel)",
   "language": "python",
   "name": "python3"
  },
  "language_info": {
   "codemirror_mode": {
    "name": "ipython",
    "version": 3
   },
   "file_extension": ".py",
   "mimetype": "text/x-python",
   "name": "python",
   "nbconvert_exporter": "python",
   "pygments_lexer": "ipython3",
   "version": "3.9.7"
  }
 },
 "nbformat": 4,
 "nbformat_minor": 5
}
