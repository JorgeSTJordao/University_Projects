{
 "cells": [
  {
   "cell_type": "code",
   "execution_count": 6,
   "id": "0cea7040",
   "metadata": {},
   "outputs": [],
   "source": [
    "import pandas as pd\n",
    "from sklearn.neighbors import KNeighborsClassifier\n",
    "from sklearn.tree import DecisionTreeClassifier\n",
    "from sklearn.naive_bayes import GaussianNB\n",
    "from sklearn.neural_network import MLPClassifier\n",
    "from sklearn import model_selection\n",
    "from sklearn.metrics import confusion_matrix, precision_score, recall_score, f1_score, ConfusionMatrixDisplay\n",
    "from sklearn.model_selection import train_test_split, GridSearchCV"
   ]
  },
  {
   "cell_type": "markdown",
   "id": "745d180f",
   "metadata": {},
   "source": [
    "### Importar a Base de Dados"
   ]
  },
  {
   "cell_type": "code",
   "execution_count": 7,
   "id": "9d9afb7a",
   "metadata": {},
   "outputs": [
    {
     "name": "stdout",
     "output_type": "stream",
     "text": [
      "Total amostras:  (19611,)\n",
      "Qtde Malware Malignos:  14599\n",
      "Qtde Malware Benignos:  [5012]\n"
     ]
    }
   ],
   "source": [
    "df = pd.read_csv('dataset_malwares.csv')\n",
    "\n",
    "X_all=df.drop(['Name', 'Machine', 'TimeDateStamp', 'Malware'],axis=1) # Drop: Descatar colunas, buscando usar apenas 35 atributos\n",
    "#X.info()\n",
    "y_all=df['Malware'] # Atributo alvo\n",
    "\n",
    "print(\"Total amostras: \", y_all.shape) \n",
    "print(\"Qtde Malware Malignos: \", np.count_nonzero(y_all, axis=0))\n",
    "print(\"Qtde Malware Benignos: \",y_all.shape - np.count_nonzero(y_all, axis=0))"
   ]
  },
  {
   "cell_type": "code",
   "execution_count": 18,
   "id": "61b88b86",
   "metadata": {},
   "outputs": [
    {
     "name": "stdout",
     "output_type": "stream",
     "text": [
      "Os melhores parâmetros foram: {'n_neighbors': 7, 'weights': 'distance'} \n"
     ]
    },
    {
     "name": "stderr",
     "output_type": "stream",
     "text": [
      "C:\\Users\\jorge\\anaconda3\\Lib\\site-packages\\sklearn\\model_selection\\_search.py:976: UserWarning: One or more of the test scores are non-finite: [       nan 0.95845086        nan 0.96329423        nan 0.96380443\n",
      "        nan 0.96482484        nan 0.96354933        nan 0.96354868]\n",
      "  warnings.warn(\n"
     ]
    }
   ],
   "source": [
    "X = X_all\n",
    "y = y_all\n",
    "X, X_val, y, y_val = train_test_split(X, y, train_size=0.8, random_state=46, stratify=y)\n",
    "\n",
    "def choose(fchoice):\n",
    "    \n",
    "    if fchoice == 1: # KNN\n",
    "        fclf = KNeighborsClassifier()\n",
    "        fparams = [{'n_neighbors': [1, 3, 5, 7, 9, 11], 'weights':['uniform', 'distance']}]\n",
    "    elif fchoice == 2: # NaiveBayes\n",
    "        fclf = GaussianNB()\n",
    "        fparams = [{'var_smoothing':[1e-09,1e-03, 1e-06]}] \n",
    "    elif fchoice == 3: # Decision Tree\n",
    "        fclf = DecisionTreeClassifier()\n",
    "        fparams = [{'criterion':['gini', 'entropy', 'log_loss'], \n",
    "                    'max_depth': [None, 5, 10], \n",
    "                    'min_samples_split':[2, 5], \n",
    "                    'splitter':['random', 'best']}] \n",
    "    else: # MLP\n",
    "        fclf = MLPClassifier()\n",
    "        fparams = [{'hidden_layer_sizes':[16, (16, 8), (16, 8, 4)], \n",
    "                    'learning_rate': ['constant', 'invscaling'], \n",
    "                    'learning_rate_init':[0.01, 0.001, 0.0001], \n",
    "                    'activation':['relu', 'logistic', 'tanh'], \n",
    "                    'random_state':[10, 46, 37]}]\n",
    "        \n",
    "    return fclf, fparams\n",
    "\n",
    "        \n",
    "\n",
    "clf, params = choose(1)\n",
    "\n",
    "gs = GridSearchCV(clf, params, scoring='accuracy', cv=5, n_jobs=-1)\n",
    "gs.fit(X_val, y_val)\n",
    "\n",
    "print(\"Os melhores parâmetros foram: {} \".format(gs.best_params_))\n",
    "\n",
    "clf = gs.best_estimator_"
   ]
  },
  {
   "cell_type": "markdown",
   "id": "bc83c90c",
   "metadata": {},
   "source": [
    "### Métricas"
   ]
  },
  {
   "cell_type": "code",
   "execution_count": 19,
   "id": "34609ab4",
   "metadata": {},
   "outputs": [
    {
     "name": "stdout",
     "output_type": "stream",
     "text": [
      "Acurácia média foi de: 0.97\n",
      "Precisão foi de 0.96\n",
      "Revocação foi de 0.96\n",
      "F1: 0.96\n"
     ]
    },
    {
     "data": {
      "text/plain": [
       "<sklearn.metrics._plot.confusion_matrix.ConfusionMatrixDisplay at 0x277a21a3910>"
      ]
     },
     "execution_count": 19,
     "metadata": {},
     "output_type": "execute_result"
    },
    {
     "data": {
      "image/png": "[encoded data removed]",
      "text/plain": [
       "<Figure size 640x480 with 2 Axes>"
      ]
     },
     "metadata": {},
     "output_type": "display_data"
    }
   ],
   "source": [
    "acuracia_media = model_selection.cross_val_score(clf, X, y, cv=5)\n",
    "print(\"Acurácia média foi de: {:.2f}\".format(acuracia_media.mean())) \n",
    "\n",
    "y_pred = model_selection.cross_val_predict(clf, X, y, cv=5)\n",
    "\n",
    "#Precisão\n",
    "precisao = precision_score(y, y_pred, average='macro')\n",
    "\n",
    "#Revocação\n",
    "revocacao = recall_score(y, y_pred, average='macro')\n",
    "\n",
    "#F1-score\n",
    "f1 = f1_score(y, y_pred, average='macro')\n",
    "\n",
    "print(\"Precisão foi de {:.2f}\".format(precisao))\n",
    "print(\"Revocação foi de {:.2f}\".format(revocacao))\n",
    "print(\"F1: {:.2f}\".format(f1))\n",
    "\n",
    "cm = confusion_matrix(y, y_pred, labels=clf.classes_)\n",
    "disp = ConfusionMatrixDisplay(confusion_matrix=cm, display_labels=['benigno', 'maligno'])\n",
    "disp.plot()"
   ]
  },
  {
   "cell_type": "code",
   "execution_count": null,
   "id": "b6cbd9ef",
   "metadata": {},
   "outputs": [],
   "source": []
  }
 ],
 "metadata": {
  "kernelspec": {
   "display_name": "Python 3 (ipykernel)",
   "language": "python",
   "name": "python3"
  },
  "language_info": {
   "codemirror_mode": {
    "name": "ipython",
    "version": 3
   },
   "file_extension": ".py",
   "mimetype": "text/x-python",
   "name": "python",
   "nbconvert_exporter": "python",
   "pygments_lexer": "ipython3",
   "version": "3.11.4"
  }
 },
 "nbformat": 4,
 "nbformat_minor": 5
}
