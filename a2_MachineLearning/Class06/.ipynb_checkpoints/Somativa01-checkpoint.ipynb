{
 "cells": [
  {
   "cell_type": "code",
   "execution_count": 1,
   "id": "0cea7040",
   "metadata": {},
   "outputs": [
    {
     "name": "stderr",
     "output_type": "stream",
     "text": [
      "C:\\Users\\jorge\\anaconda3\\lib\\site-packages\\scipy\\__init__.py:146: UserWarning: A NumPy version >=1.16.5 and <1.23.0 is required for this version of SciPy (detected version 1.23.0\n",
      "  warnings.warn(f\"A NumPy version >={np_minversion} and <{np_maxversion}\"\n"
     ]
    }
   ],
   "source": [
    "import numpy as np\n",
    "from sklearn.neighbors import KNeighborsClassifier\n",
    "from sklearn.tree import DecisionTreeClassifier\n",
    "from sklearn.naive_bayes import GaussianNB\n",
    "from sklearn.neural_network import MLPClassifier\n",
    "from sklearn import model_selection\n",
    "from sklearn.metrics import confusion_matrix, precision_score, recall_score, f1_score, ConfusionMatrixDisplay"
   ]
  },
  {
   "cell_type": "markdown",
   "id": "745d180f",
   "metadata": {},
   "source": [
    "### Importar a Base de Dados"
   ]
  },
  {
   "cell_type": "code",
   "execution_count": 5,
   "id": "9d9afb7a",
   "metadata": {},
   "outputs": [
    {
     "name": "stdout",
     "output_type": "stream",
     "text": [
      "Total amostras:  (19611,)\n",
      "Qtde Malware Malignos:  14599\n",
      "Qtde Malware Benignos:  [5012]\n"
     ]
    }
   ],
   "source": [
    "import pandas as pd\n",
    "from sklearn.model_selection import train_test_split\n",
    "df = pd.read_csv('dataset_malwares.csv')\n",
    "\n",
    "X=df.drop(['Name', 'Machine', 'TimeDateStamp', 'Malware'],axis=1) # Drop: Descatar colunas, buscando usar apenas 35 atributos\n",
    "#X.info()\n",
    "y=df['Malware'] # Atributo alvo\n",
    "\n",
    "print(\"Total amostras: \", y.shape) \n",
    "print(\"Qtde Malware Malignos: \", np.count_nonzero(y, axis=0))\n",
    "print(\"Qtde Malware Benignos: \", y.shape - np.count_nonzero(y, axis=0))"
   ]
  },
  {
   "cell_type": "code",
   "execution_count": 6,
   "id": "61b88b86",
   "metadata": {},
   "outputs": [
    {
     "name": "stdout",
     "output_type": "stream",
     "text": [
      "Os melhores parâmetros foram: {'activation': 'relu', 'hidden_layer_sizes': 16, 'learning_rate': 'constant', 'learning_rate_init': 0.001, 'random_state': 37} \n"
     ]
    }
   ],
   "source": [
    "from sklearn.model_selection import train_test_split, GridSearchCV\n",
    "\n",
    "#Separação de dados\n",
    "X, X_val, y, y_val = train_test_split(X, y, test_size=0.5, random_state=46, stratify=y)\n",
    "\n",
    "#Parâmetros\n",
    "#params = [{'n_neighbors': [1, 3, 5, 7, 9, 11], 'weights':['uniform', 'distance']}] # KNN\n",
    "#params = [{'criterion':['gini', 'entropy', 'log_loss'], 'max_depth': [None, 5, 10], 'min_samples_split':[2, 5], 'splitter':['random', 'best']}] # Árvore de Decisão\n",
    "#params = [{'var_smoothing':[1e-09,1e-03, 1e-06]}] # NaiveBayes\n",
    "params = [{'hidden_layer_sizes':[16, (16, 8), (16, 8, 4)], \n",
    "          'learning_rate': ['constant', 'invscaling'], \n",
    "        'learning_rate_init':[0.01, 0.001, 0.0001], \n",
    "            'activation':['relu', 'logistic', 'tanh'], \n",
    "                'random_state':[10, 46, 37]}] # MLP\n",
    "\n",
    "#Modelos\n",
    "#clf = KNeighborsClassifier()\n",
    "#clf = DecisionTreeClassifier()\n",
    "#clf = GaussianNB()\n",
    "clf = MLPClassifier()\n",
    "\n",
    "#Seleção dos melhores parâmetros\n",
    "gs = GridSearchCV(clf, params, scoring='accuracy', cv=5, n_jobs=-1)\n",
    "gs.fit(X_val, y_val)\n",
    "\n",
    "print(\"Os melhores parâmetros foram: {} \".format(gs.best_params_))\n",
    "\n",
    "clf = gs.best_estimator_"
   ]
  },
  {
   "cell_type": "markdown",
   "id": "bc83c90c",
   "metadata": {},
   "source": [
    "### Métricas"
   ]
  },
  {
   "cell_type": "code",
   "execution_count": 8,
   "id": "34609ab4",
   "metadata": {},
   "outputs": [
    {
     "name": "stdout",
     "output_type": "stream",
     "text": [
      "Acurácia média foi de: 0.88\n",
      "Precisão foi de 0.83\n",
      "Revocação foi de 0.85\n",
      "F1: 0.84\n"
     ]
    },
    {
     "name": "stderr",
     "output_type": "stream",
     "text": [
      "C:\\Users\\jorge\\anaconda3\\lib\\site-packages\\sklearn\\utils\\validation.py:70: FutureWarning: Pass display_labels=[0 1 0 ... 1 1 0] as keyword args. From version 1.0 (renaming of 0.25) passing these as positional arguments will result in an error\n",
      "  warnings.warn(f\"Pass {args_msg} as keyword args. From version \"\n"
     ]
    },
    {
     "data": {
      "text/plain": [
       "<sklearn.metrics._plot.confusion_matrix.ConfusionMatrixDisplay at 0x23c05d960d0>"
      ]
     },
     "execution_count": 8,
     "metadata": {},
     "output_type": "execute_result"
    },
    {
     "data": {
      "image/png": "[encoded data removed]",
      "text/plain": [
       "<Figure size 432x288 with 2 Axes>"
      ]
     },
     "metadata": {
      "needs_background": "light"
     },
     "output_type": "display_data"
    }
   ],
   "source": [
    "acuracia_media = model_selection.cross_val_score(clf, X, y, cv=5)\n",
    "print(\"Acurácia média foi de: {:.2f}\".format(acuracia_media.mean())) \n",
    "\n",
    "y_pred = model_selection.cross_val_predict(clf, X, y, cv=5)\n",
    "\n",
    "#Precisão\n",
    "precisao = precision_score(y, y_pred, average='macro')\n",
    "\n",
    "#Revocação\n",
    "revocacao = recall_score(y, y_pred, average='macro')\n",
    "\n",
    "#F1-score\n",
    "f1 = f1_score(y, y_pred, average='macro')\n",
    "\n",
    "print(\"Precisão foi de {:.2f}\".format(precisao))\n",
    "print(\"Revocação foi de {:.2f}\".format(revocacao))\n",
    "print(\"F1: {:.2f}\".format(f1))\n",
    "\n",
    "matrix=ConfusionMatrixDisplay(y, y_pred)\n",
    "cm = confusion_matrix(y, y_pred, labels=clf.classes_)\n",
    "disp = ConfusionMatrixDisplay(confusion_matrix=cm, display_labels=['benigno', 'maligno'])\n",
    "disp.plot()"
   ]
  },
  {
   "cell_type": "code",
   "execution_count": null,
   "id": "b6cbd9ef",
   "metadata": {},
   "outputs": [],
   "source": []
  }
 ],
 "metadata": {
  "kernelspec": {
   "display_name": "Python 3 (ipykernel)",
   "language": "python",
   "name": "python3"
  },
  "language_info": {
   "codemirror_mode": {
    "name": "ipython",
    "version": 3
   },
   "file_extension": ".py",
   "mimetype": "text/x-python",
   "name": "python",
   "nbconvert_exporter": "python",
   "pygments_lexer": "ipython3",
   "version": "3.9.7"
  }
 },
 "nbformat": 4,
 "nbformat_minor": 5
}
