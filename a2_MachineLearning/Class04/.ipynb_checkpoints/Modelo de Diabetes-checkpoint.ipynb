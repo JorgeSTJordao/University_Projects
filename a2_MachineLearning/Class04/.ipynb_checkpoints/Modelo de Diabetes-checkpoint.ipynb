{
 "cells": [
  {
   "cell_type": "code",
   "execution_count": 24,
   "id": "c1e2d709",
   "metadata": {},
   "outputs": [],
   "source": [
    "import numpy as np\n",
    "import pandas as pd\n",
    "from sklearn.neighbors import KNeighborsRegressor \n",
    "from sklearn.tree import DecisionTreeRegressor \n",
    "from sklearn.naive_bayes import GaussianNB \n",
    "from sklearn import model_selection \n",
    "from sklearn.metrics import mean_absolute_error, r2_score\n",
    "from sklearn import datasets \n",
    "from tabulate import tabulate\n",
    "from sklearn.model_selection import train_test_split, GridSearchCV"
   ]
  },
  {
   "cell_type": "code",
   "execution_count": 34,
   "id": "b2f4d8ec",
   "metadata": {},
   "outputs": [
    {
     "name": "stdout",
     "output_type": "stream",
     "text": [
      "(442, 10)\n",
      "(442,)\n"
     ]
    }
   ],
   "source": [
    "X, y = datasets.load_diabetes(return_X_y=True)\n",
    "\n",
    "print(X.shape)\n",
    "print(y.shape)"
   ]
  },
  {
   "cell_type": "code",
   "execution_count": 36,
   "id": "77e607b7",
   "metadata": {},
   "outputs": [
    {
     "name": "stdout",
     "output_type": "stream",
     "text": [
      "Os melhores parâmetros foram {'criterion': 'friedman_mse', 'max_depth': None, 'min_samples_split': 5, 'splitter': 'best'}\n"
     ]
    },
    {
     "name": "stderr",
     "output_type": "stream",
     "text": [
      "C:\\Users\\jorge\\anaconda3\\lib\\site-packages\\sklearn\\model_selection\\_search.py:922: UserWarning: One or more of the test scores are non-finite: [        nan         nan         nan         nan         nan         nan\n",
      "         nan         nan         nan         nan         nan         nan\n",
      " -0.90166808 -0.22260317 -0.10081525  0.02476833 -0.17695631 -0.15162154\n",
      "  0.00196723 -0.14993697 -0.53286825 -0.41085646 -0.20440485 -0.15436487\n",
      "         nan         nan         nan         nan         nan         nan\n",
      "         nan         nan         nan         nan         nan         nan\n",
      " -0.10613718 -0.70952039 -0.42969982 -0.62451529 -0.38677582 -0.33350001\n",
      " -0.08232418 -0.42569725 -0.54764594 -0.92079505 -0.32917928 -0.61930742]\n",
      "  warnings.warn(\n"
     ]
    }
   ],
   "source": [
    "from sklearn.model_selection import train_test_split, GridSearchCV\n",
    "\n",
    "X, X_test, y, y_test = train_test_split(X, y, train_size=0.7, random_state=42)\n",
    "\n",
    "X, X_val, y, y_val = train_test_split(X,y,train_size=0.8,random_state=42)\n",
    "\n",
    "# Declaração dos parâmetros\n",
    "#params = [{'n_neighbors': [1, 3, 5, 7, 9, 11]}] # KNN\n",
    "#params = [{'n_neighbors': [1, 3, 5, 7, 9, 11], 'weights':['uniform', 'distance']}] # KNN\n",
    "params = [{'criterion': ['squared_error', 'friedman_mse', 'absolute_error', 'poisson'],\n",
    "           'max_depth': [None, 5, 10],\n",
    "           'min_samples_split':[2, 5],\n",
    "          'splitter':['random', 'best']}] # Árvore de Decisão\n",
    "\n",
    "# Declaração de regressores\n",
    "#reg = KNeighborsRegressor()\n",
    "reg = DecisionTreeRegressor()\n",
    "\n",
    "# Validação cruzada\n",
    "gs = GridSearchCV(reg, params,  cv=5, scoring='r2', n_jobs=-1)\n",
    "gs.fit(X_val, y_val)\n",
    "\n",
    "print(\"Os melhores parâmetros foram {}\".format(gs.best_params_))\n",
    "\n",
    "rg = gs.best_estimator_\n",
    "\n",
    "rg.fit(X, y)\n",
    "\n",
    "y_pred = rg.predict(X_test)"
   ]
  },
  {
   "cell_type": "markdown",
   "id": "de07d3e0",
   "metadata": {},
   "source": [
    "## Métricas de Avaliação R2 e Erro Médio Absoluto"
   ]
  },
  {
   "cell_type": "code",
   "execution_count": 37,
   "id": "fa42e991",
   "metadata": {},
   "outputs": [
    {
     "name": "stdout",
     "output_type": "stream",
     "text": [
      "O coeficiente de determinação (R2) foi de -0.24 \n",
      "O erro médio absoluto foi de 69.17\n"
     ]
    }
   ],
   "source": [
    "#R2\n",
    "score_r2 = r2_score(y_test, y_pred)\n",
    "\n",
    "print(\"O coeficiente de determinação (R2) foi de {:.2f} \".format(score_r2))\n",
    "\n",
    "#Erro absoluto médio\n",
    "mae=mean_absolute_error(y_test, y_pred)\n",
    "print(\"O erro médio absoluto foi de {:.2f}\".format(mae))"
   ]
  },
  {
   "cell_type": "code",
   "execution_count": null,
   "id": "6d4da8e3",
   "metadata": {},
   "outputs": [],
   "source": []
  }
 ],
 "metadata": {
  "kernelspec": {
   "display_name": "Python 3 (ipykernel)",
   "language": "python",
   "name": "python3"
  },
  "language_info": {
   "codemirror_mode": {
    "name": "ipython",
    "version": 3
   },
   "file_extension": ".py",
   "mimetype": "text/x-python",
   "name": "python",
   "nbconvert_exporter": "python",
   "pygments_lexer": "ipython3",
   "version": "3.9.7"
  }
 },
 "nbformat": 4,
 "nbformat_minor": 5
}
