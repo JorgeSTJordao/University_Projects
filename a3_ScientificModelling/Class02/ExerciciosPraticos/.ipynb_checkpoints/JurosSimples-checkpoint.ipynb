{
 "cells": [
  {
   "cell_type": "code",
   "execution_count": 31,
   "id": "b2b3a019-2ef0-42a7-be2f-6f56623e2d16",
   "metadata": {},
   "outputs": [
    {
     "name": "stdout",
     "output_type": "stream",
     "text": [
      "ERROR: Could not find file C:\\Users\\jorge.LAPTOP-6TDCOHBG\\AppData\\Local\\Temp\\ipykernel_9948\\1151376195.py\n",
      "10300.0\n",
      "ERROR: Could not find file C:\\Users\\jorge.LAPTOP-6TDCOHBG\\AppData\\Local\\Temp\\ipykernel_9948\\1151376195.py\n",
      "10609.0\n",
      "ERROR: Could not find file C:\\Users\\jorge.LAPTOP-6TDCOHBG\\AppData\\Local\\Temp\\ipykernel_9948\\1151376195.py\n",
      "10927.27\n",
      "ERROR: Could not find file C:\\Users\\jorge.LAPTOP-6TDCOHBG\\AppData\\Local\\Temp\\ipykernel_9948\\1151376195.py\n",
      "11255.0881\n",
      "ERROR: Could not find file C:\\Users\\jorge.LAPTOP-6TDCOHBG\\AppData\\Local\\Temp\\ipykernel_9948\\1151376195.py\n",
      "11592.740743\n",
      "ERROR: Could not find file C:\\Users\\jorge.LAPTOP-6TDCOHBG\\AppData\\Local\\Temp\\ipykernel_9948\\1151376195.py\n",
      "11940.52296529\n",
      "ERROR: Could not find file C:\\Users\\jorge.LAPTOP-6TDCOHBG\\AppData\\Local\\Temp\\ipykernel_9948\\1151376195.py\n",
      "12298.7386542487\n",
      "ERROR: Could not find file C:\\Users\\jorge.LAPTOP-6TDCOHBG\\AppData\\Local\\Temp\\ipykernel_9948\\1151376195.py\n",
      "12667.700813876161\n",
      "ERROR: Could not find file C:\\Users\\jorge.LAPTOP-6TDCOHBG\\AppData\\Local\\Temp\\ipykernel_9948\\1151376195.py\n",
      "ERROR: Could not find file C:\\Users\\jorge.LAPTOP-6TDCOHBG\\AppData\\Local\\Temp\\ipykernel_9948\\1151376195.py\n",
      "10300.0\n",
      "ERROR: Could not find file C:\\Users\\jorge.LAPTOP-6TDCOHBG\\AppData\\Local\\Temp\\ipykernel_9948\\1151376195.py\n",
      "10609.0\n",
      "ERROR: Could not find file C:\\Users\\jorge.LAPTOP-6TDCOHBG\\AppData\\Local\\Temp\\ipykernel_9948\\1151376195.py\n",
      "10927.27\n",
      "ERROR: Could not find file C:\\Users\\jorge.LAPTOP-6TDCOHBG\\AppData\\Local\\Temp\\ipykernel_9948\\1151376195.py\n",
      "11255.0881\n",
      "ERROR: Could not find file C:\\Users\\jorge.LAPTOP-6TDCOHBG\\AppData\\Local\\Temp\\ipykernel_9948\\1151376195.py\n",
      "11592.740743\n",
      "ERROR: Could not find file C:\\Users\\jorge.LAPTOP-6TDCOHBG\\AppData\\Local\\Temp\\ipykernel_9948\\1151376195.py\n",
      "11940.52296529\n",
      "ERROR: Could not find file C:\\Users\\jorge.LAPTOP-6TDCOHBG\\AppData\\Local\\Temp\\ipykernel_9948\\1151376195.py\n",
      "12298.7386542487\n",
      "ERROR: Could not find file C:\\Users\\jorge.LAPTOP-6TDCOHBG\\AppData\\Local\\Temp\\ipykernel_9948\\1151376195.py\n",
      "12667.700813876161\n",
      "ERROR: Could not find file C:\\Users\\jorge.LAPTOP-6TDCOHBG\\AppData\\Local\\Temp\\ipykernel_9948\\1151376195.py\n"
     ]
    }
   ],
   "source": [
    "from memory_profiler import profile\n",
    "\n",
    "@profile\n",
    "def juros_compostos(jc, limit, t):\n",
    "    \n",
    "    if t == limit:\n",
    "        return jc\n",
    "    else:\n",
    "        jc += jc*0.03\n",
    "        print(jc)\n",
    "        return jc + juros_compostos(jc, limit, t + 1)\n",
    "\n",
    "if __name__ == '__main__':\n",
    "    memory_usage((juros_compostos, (10000, 8, 0)))"
   ]
  },
  {
   "cell_type": "code",
   "execution_count": 30,
   "id": "18369e67-d783-411e-af34-3168f34a04ec",
   "metadata": {},
   "outputs": [
    {
     "name": "stdout",
     "output_type": "stream",
     "text": [
      "f0 = 10000\n",
      "f1 = 10000 + (10000*0.03) = 10300.0 \n",
      "f2 = 10300.0 + (10300.0*0.03) = 10609.0 \n",
      "f3 = 10609.0 + (10609.0*0.03) = 10927.27 \n",
      "f4 = 10927.27 + (10927.27*0.03) = 11255.0881 \n",
      "f5 = 11255.0881 + (11255.0881*0.03) = 11592.740743 \n",
      "f6 = 11592.740743 + (11592.740743*0.03) = 11940.52296529 \n",
      "f7 = 11940.52296529 + (11940.52296529*0.03) = 12298.7386542487 \n"
     ]
    }
   ],
   "source": [
    "for t in range(8):\n",
    "    if t != 0:\n",
    "        aux = jc\n",
    "        jc += (jc*0.03)\n",
    "        print(\"f{} = {} + ({}*0.03) = {} \".format(t, aux, aux, jc))  \n",
    "    else:\n",
    "        jc = 10000\n",
    "        print(\"f{} = {}\".format(t, jc))"
   ]
  }
 ],
 "metadata": {
  "kernelspec": {
   "display_name": "Python 3 (ipykernel)",
   "language": "python",
   "name": "python3"
  },
  "language_info": {
   "codemirror_mode": {
    "name": "ipython",
    "version": 3
   },
   "file_extension": ".py",
   "mimetype": "text/x-python",
   "name": "python",
   "nbconvert_exporter": "python",
   "pygments_lexer": "ipython3",
   "version": "3.12.2"
  }
 },
 "nbformat": 4,
 "nbformat_minor": 5
}
