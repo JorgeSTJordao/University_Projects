{
 "cells": [
  {
   "cell_type": "markdown",
   "id": "29c1e80e",
   "metadata": {},
   "source": [
    "## Função de cálculo"
   ]
  },
  {
   "cell_type": "code",
   "execution_count": 1,
   "id": "90b010b8-e9c0-430d-b0fb-71269ab2e970",
   "metadata": {},
   "outputs": [],
   "source": [
    "from sympy import *\n",
    "import numpy as np\n",
    "import matplotlib.pyplot as plt\n",
    "\n",
    "x = symbols('x')"
   ]
  },
  {
   "cell_type": "code",
   "execution_count": 33,
   "id": "e76c71b9",
   "metadata": {},
   "outputs": [],
   "source": [
    "limit_exp = lambda func, coef_ind, valor_limite: limit(func, coef_ind, valor_limite)\n",
    "\n",
    "def valoresLaterais(func, coef_ind, valor_limite):\n",
    "    \n",
    "    print(\"Valor limite: {}\".format(limit_exp(func, coef_ind, valor_limite)))\n",
    "    \n",
    "    aux = valor_limite\n",
    "    aux -= 1\n",
    "    \n",
    "    print(15*\"-\")\n",
    "    \n",
    "    #Pela esquerda\n",
    "    print(\"Valores pela esquerda\")\n",
    "    for i in range(10):\n",
    "        print(round(limit_exp(func, coef_ind, aux), 6))\n",
    "        aux += 0.1\n",
    "\n",
    "    aux = valor_limite \n",
    "    aux += 1   \n",
    "        \n",
    "    print(15*\"-\")\n",
    "    \n",
    "    #Pela direita\n",
    "    print(\"Valores pela direita\")\n",
    "    for i in range(10):\n",
    "        print(round(limit_exp(func, coef_ind, aux), 6)) \n",
    "        aux -= 0.1"
   ]
  },
  {
   "cell_type": "markdown",
   "id": "0a19df2a-de67-4644-86b2-4ce134b287b9",
   "metadata": {},
   "source": [
    "## Problema 1\n",
    "\n",
    "$$\\lim_{x \\to 3} (x^2 - 9)/(x - 3)$$\n",
    "\n",
    "## Problema 2\n",
    "\n",
    "$$\\lim_{x \\to 2} \\frac{x^3 - 8}{x^2 - 4}$$\n",
    "\n",
    "## Problema 3\n",
    "\n",
    "$$\\lim_{x \\to -1} \\frac{x^3 + 2x^2 - x - 2}{x + 1}$$$$"
   ]
  },
  {
   "cell_type": "code",
   "execution_count": 32,
   "id": "efc0c697-4a61-4be6-a534-95b3f389330d",
   "metadata": {},
   "outputs": [
    {
     "name": "stdout",
     "output_type": "stream",
     "text": [
      "Valor limite: -2\n",
      "---------------\n",
      "Valores pela esquerda\n",
      "0\n",
      "-0.29\n",
      "-0.56\n",
      "-0.81\n",
      "-1.04\n",
      "-1.25\n",
      "-1.44\n",
      "-1.61\n",
      "-1.76\n",
      "-1.89\n",
      "---------------\n",
      "Valores pela direita\n",
      "-2\n",
      "-2.09\n",
      "-2.16\n",
      "-2.21\n",
      "-2.24\n",
      "-2.25\n",
      "-2.24\n",
      "-2.21\n",
      "-2.16\n",
      "-2.09\n"
     ]
    }
   ],
   "source": [
    "#1ª função\n",
    "#valoresLaterais((x**2 - 9)/(x-3), x, 3)\n",
    "\n",
    "#2ª função\n",
    "#valoresLaterais((x**3-8)/(x**2-4), x, 2)\n",
    "\n",
    "#3ª função\n",
    "#valoresLaterais((x**3+2*x**2-x-2)/(x+1), x, -1)\n",
    "\n",
    "#valoresLaterais(((x+1)**0.5 - 3)/(x-8), x, 8)"
   ]
  },
  {
   "cell_type": "markdown",
   "id": "acc67582-60bf-4b53-a2b5-651ca2b952d7",
   "metadata": {},
   "source": [
    "\n",
    "\n",
    "## Problema 5\n",
    "\n",
    "$$\\lim_{x \\to -2} \\frac{x^2 + 3x + 2}{x^2 - 4}$$\n",
    "\n",
    "## Problema 6\n",
    "\n",
    "$$\\lim_{x \\to 0} \\frac{x^2 - 9}{x^2 - x}$$\n",
    "\n",
    "## Problema 7\n",
    "\n",
    "$$\\lim_{x \\to 0} \\frac{x^3 - 6x^2 + 9x}{3x^2 - 4x}$$\n",
    "\n",
    "## Problema 8\n",
    "\n",
    "$$\\lim_{x \\to 1} \\frac{x^4 - 1}{x^3 - x}$$\n",
    "\n",
    "## Problema 9\n",
    "\n",
    "$$\\lim_{x \\to 1} \\frac{x^3 - 3x^2 + 3x - 1}{x^2 - 1}$$\n",
    "\n",
    "\n",
    "\n"
   ]
  },
  {
   "cell_type": "code",
   "execution_count": null,
   "id": "39c199f1-ece4-4b95-99a5-6892cbc619df",
   "metadata": {},
   "outputs": [],
   "source": [
    "#4ª função\n",
    "for i in range(2, 5, 1):\n",
    "    print(limit_exp((x**2 - 3*x + 2)/(x**2-4), x, i)) \n",
    "\n",
    "x = np.linspace(-10, 11, 1000)\n",
    "y = (x**2 - 3*x + 2)/(x**2-4)\n",
    "\n",
    "plt.plot(x, y)"
   ]
  },
  {
   "cell_type": "code",
   "execution_count": 35,
   "id": "5eb4de3d-4c4c-4c93-a0c8-e9aa7bb6374c",
   "metadata": {},
   "outputs": [
    {
     "name": "stdout",
     "output_type": "stream",
     "text": [
      "Valor limite: oo\n",
      "---------------\n",
      "Valores pela esquerda\n",
      "-4\n",
      "-4.789474\n",
      "-5.805556\n",
      "-7.151261\n",
      "-9.00000000000000\n",
      "-11.666667\n",
      "-15.785714\n",
      "-22.846154\n",
      "-37.333333\n",
      "-81.727273\n",
      "---------------\n",
      "Valores pela direita\n",
      "-oo\n",
      "91.0000000000000\n",
      "52.250000\n",
      "40.523810\n",
      "36.0000000000000\n",
      "35.0000000000000\n",
      "36.833333\n",
      "42.428571\n",
      "56.0000000000000\n",
      "99.888889\n"
     ]
    }
   ],
   "source": [
    "valoresLaterais((x**2 - 9)/(x**2-x), x, 0)"
   ]
  },
  {
   "cell_type": "code",
   "execution_count": null,
   "id": "ea203327",
   "metadata": {},
   "outputs": [],
   "source": []
  }
 ],
 "metadata": {
  "kernelspec": {
   "display_name": "Python 3 (ipykernel)",
   "language": "python",
   "name": "python3"
  },
  "language_info": {
   "codemirror_mode": {
    "name": "ipython",
    "version": 3
   },
   "file_extension": ".py",
   "mimetype": "text/x-python",
   "name": "python",
   "nbconvert_exporter": "python",
   "pygments_lexer": "ipython3",
   "version": "3.11.4"
  }
 },
 "nbformat": 4,
 "nbformat_minor": 5
}
