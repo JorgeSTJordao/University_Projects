{
 "cells": [
  {
   "cell_type": "markdown",
   "id": "29c1e80e",
   "metadata": {},
   "source": [
    "## Função de cálculo"
   ]
  },
  {
   "cell_type": "code",
   "execution_count": 4,
   "id": "90b010b8-e9c0-430d-b0fb-71269ab2e970",
   "metadata": {},
   "outputs": [],
   "source": [
    "from sympy import *\n",
    "import numpy as np\n",
    "import matplotlib.pyplot as plt\n",
    "\n",
    "x = symbols('x')"
   ]
  },
  {
   "cell_type": "code",
   "execution_count": 5,
   "id": "e76c71b9",
   "metadata": {},
   "outputs": [],
   "source": [
    "limit_exp = lambda func, coef_ind, valor_limite: limit(func, coef_ind, valor_limite)\n",
    "\n",
    "\n",
    "#Valores laterais\n",
    "def valoresLaterais(func, coef_ind, valor_limite):\n",
    "    \n",
    "    print(\"Valor limite: {}\".format(limit_exp(func, coef_ind, valor_limite)))\n",
    "    \n",
    "    aux = valor_limite\n",
    "    aux -= 1\n",
    "    \n",
    "    print(15*\"-\")\n",
    "    \n",
    "    #Pela esquerda\n",
    "    print(\"Valores pela esquerda\")\n",
    "    for i in range(10):\n",
    "        print(round(limit_exp(func, coef_ind, aux), 6))\n",
    "        aux += 0.1\n",
    "\n",
    "    aux = valor_limite \n",
    "    aux += 1   \n",
    "        \n",
    "    print(15*\"-\")\n",
    "    \n",
    "    #Pela direita\n",
    "    print(\"Valores pela direita\")\n",
    "    for i in range(10):\n",
    "        print(round(limit_exp(func, coef_ind, aux), 6)) \n",
    "        aux -= 0.1\n",
    "\n",
    "\n",
    "    x = np.linspace(valor_limite - 1, valor_limite + 1, 1000)\n",
    "    y = func(x)\n",
    "\n",
    "    plt.grid()\n",
    "    plt.plot(x, y)"
   ]
  },
  {
   "cell_type": "markdown",
   "id": "0a19df2a-de67-4644-86b2-4ce134b287b9",
   "metadata": {},
   "source": [
    "## Problema 1\n",
    "\n",
    "$$\\lim_{x \\to 3} (x^2 - 9)/(x - 3)$$\n",
    "\n",
    "## Problema 2\n",
    "\n",
    "$$\\lim_{x \\to 2} \\frac{x^3 - 8}{x^2 - 4}$$\n",
    "\n",
    "## Problema 3\n",
    "\n",
    "$$\\lim_{x \\to -1} \\frac{x^3 + 2x^2 - x - 2}{x + 1}$$$$"
   ]
  },
  {
   "cell_type": "code",
   "execution_count": 6,
   "id": "efc0c697-4a61-4be6-a534-95b3f389330d",
   "metadata": {},
   "outputs": [
    {
     "name": "stdout",
     "output_type": "stream",
     "text": [
      "Valor limite: 1/84\n",
      "---------------\n",
      "Valores pela esquerda\n",
      "0.015152\n",
      "0.014769\n",
      "0.014401\n",
      "0.014047\n",
      "0.013706\n",
      "0.013378\n",
      "0.013062\n",
      "0.012757\n",
      "0.012463\n",
      "0.012179\n",
      "---------------\n",
      "Valores pela direita\n",
      "0.009615\n",
      "0.009813\n",
      "0.010016\n",
      "0.010226\n",
      "0.010443\n",
      "0.010667\n",
      "0.010898\n",
      "0.011137\n",
      "0.011384\n",
      "0.011640\n"
     ]
    },
    {
     "ename": "TypeError",
     "evalue": "'Pow' object is not callable",
     "output_type": "error",
     "traceback": [
      "\u001b[1;31m---------------------------------------------------------------------------\u001b[0m",
      "\u001b[1;31mTypeError\u001b[0m                                 Traceback (most recent call last)",
      "Cell \u001b[1;32mIn[6], line 12\u001b[0m\n\u001b[0;32m      1\u001b[0m \u001b[38;5;66;03m#1ª função\u001b[39;00m\n\u001b[0;32m      2\u001b[0m \u001b[38;5;66;03m#valoresLaterais((x**2 - 9)/(x-3), x, 3)\u001b[39;00m\n\u001b[0;32m      3\u001b[0m \n\u001b[1;32m   (...)\u001b[0m\n\u001b[0;32m      9\u001b[0m \n\u001b[0;32m     10\u001b[0m \u001b[38;5;66;03m#valoresLaterais(((x+1)**0.5 - 3)/(x-8), x, 8)\u001b[39;00m\n\u001b[1;32m---> 12\u001b[0m \u001b[43mvaloresLaterais\u001b[49m\u001b[43m(\u001b[49m\u001b[38;5;241;43m1\u001b[39;49m\u001b[38;5;241;43m/\u001b[39;49m\u001b[43m(\u001b[49m\u001b[43mx\u001b[49m\u001b[38;5;241;43m*\u001b[39;49m\u001b[38;5;241;43m*\u001b[39;49m\u001b[38;5;241;43m2\u001b[39;49m\u001b[38;5;241;43m+\u001b[39;49m\u001b[38;5;241;43m5\u001b[39;49m\u001b[38;5;241;43m*\u001b[39;49m\u001b[43mx\u001b[49m\u001b[43m)\u001b[49m\u001b[43m,\u001b[49m\u001b[43m \u001b[49m\u001b[43mx\u001b[49m\u001b[43m,\u001b[49m\u001b[43m \u001b[49m\u001b[38;5;241;43m7\u001b[39;49m\u001b[43m)\u001b[49m\n",
      "Cell \u001b[1;32mIn[5], line 33\u001b[0m, in \u001b[0;36mvaloresLaterais\u001b[1;34m(func, coef_ind, valor_limite)\u001b[0m\n\u001b[0;32m     29\u001b[0m     aux \u001b[38;5;241m-\u001b[39m\u001b[38;5;241m=\u001b[39m \u001b[38;5;241m0.1\u001b[39m\n\u001b[0;32m     32\u001b[0m x \u001b[38;5;241m=\u001b[39m np\u001b[38;5;241m.\u001b[39mlinspace(valor_limite \u001b[38;5;241m-\u001b[39m \u001b[38;5;241m1\u001b[39m, valor_limite \u001b[38;5;241m+\u001b[39m \u001b[38;5;241m1\u001b[39m, \u001b[38;5;241m1000\u001b[39m)\n\u001b[1;32m---> 33\u001b[0m y \u001b[38;5;241m=\u001b[39m \u001b[43mfunc\u001b[49m\u001b[43m(\u001b[49m\u001b[43mx\u001b[49m\u001b[43m)\u001b[49m\n\u001b[0;32m     35\u001b[0m plt\u001b[38;5;241m.\u001b[39mgrid()\n\u001b[0;32m     36\u001b[0m plt\u001b[38;5;241m.\u001b[39mplot(x, y)\n",
      "\u001b[1;31mTypeError\u001b[0m: 'Pow' object is not callable"
     ]
    }
   ],
   "source": [
    "#1ª função\n",
    "#valoresLaterais((x**2 - 9)/(x-3), x, 3)\n",
    "\n",
    "#2ª função\n",
    "#valoresLaterais((x**3-8)/(x**2-4), x, 2)\n",
    "\n",
    "#3ª função\n",
    "#valoresLaterais((x**3+2*x**2-x-2)/(x+1), x, -1)\n",
    "\n",
    "#valoresLaterais(((x+1)**0.5 - 3)/(x-8), x, 8)\n",
    "\n",
    "valoresLaterais(1/(x**2+5*x), x, 7)"
   ]
  },
  {
   "cell_type": "markdown",
   "id": "acc67582-60bf-4b53-a2b5-651ca2b952d7",
   "metadata": {},
   "source": [
    "\n",
    "\n",
    "## Problema 5\n",
    "\n",
    "$$\\lim_{x \\to -2} \\frac{x^2 + 3x + 2}{x^2 - 4}$$\n",
    "\n",
    "## Problema 6\n",
    "\n",
    "$$\\lim_{x \\to 0} \\frac{x^2 - 9}{x^2 - x}$$\n",
    "\n",
    "## Problema 7\n",
    "\n",
    "$$\\lim_{x \\to 0} \\frac{x^3 - 6x^2 + 9x}{3x^2 - 4x}$$\n",
    "\n",
    "## Problema 8\n",
    "\n",
    "$$\\lim_{x \\to 1} \\frac{x^4 - 1}{x^3 - x}$$\n",
    "\n",
    "## Problema 9\n",
    "\n",
    "$$\\lim_{x \\to 1} \\frac{x^3 - 3x^2 + 3x - 1}{x^2 - 1}$$\n",
    "\n",
    "\n",
    "\n"
   ]
  },
  {
   "cell_type": "code",
   "execution_count": null,
   "id": "39c199f1-ece4-4b95-99a5-6892cbc619df",
   "metadata": {},
   "outputs": [],
   "source": [
    "#4ª função\n",
    "for i in range(2, 5, 1):\n",
    "    print(limit_exp((x**2 - 3*x + 2)/(x**2-4), x, i)) \n",
    "\n",
    "x = np.linspace(-10, 11, 1000)\n",
    "y = (x**2 - 3*x + 2)/(x**2-4)\n",
    "\n",
    "plt.plot(x, y)"
   ]
  },
  {
   "cell_type": "code",
   "execution_count": 35,
   "id": "5eb4de3d-4c4c-4c93-a0c8-e9aa7bb6374c",
   "metadata": {},
   "outputs": [
    {
     "name": "stdout",
     "output_type": "stream",
     "text": [
      "Valor limite: oo\n",
      "---------------\n",
      "Valores pela esquerda\n",
      "-4\n",
      "-4.789474\n",
      "-5.805556\n",
      "-7.151261\n",
      "-9.00000000000000\n",
      "-11.666667\n",
      "-15.785714\n",
      "-22.846154\n",
      "-37.333333\n",
      "-81.727273\n",
      "---------------\n",
      "Valores pela direita\n",
      "-oo\n",
      "91.0000000000000\n",
      "52.250000\n",
      "40.523810\n",
      "36.0000000000000\n",
      "35.0000000000000\n",
      "36.833333\n",
      "42.428571\n",
      "56.0000000000000\n",
      "99.888889\n"
     ]
    }
   ],
   "source": [
    "valoresLaterais((x**2 - 9)/(x**2-x), x, 0)"
   ]
  },
  {
   "cell_type": "code",
   "execution_count": null,
   "id": "ea203327",
   "metadata": {},
   "outputs": [],
   "source": []
  }
 ],
 "metadata": {
  "kernelspec": {
   "display_name": "Python 3 (ipykernel)",
   "language": "python",
   "name": "python3"
  },
  "language_info": {
   "codemirror_mode": {
    "name": "ipython",
    "version": 3
   },
   "file_extension": ".py",
   "mimetype": "text/x-python",
   "name": "python",
   "nbconvert_exporter": "python",
   "pygments_lexer": "ipython3",
   "version": "3.12.2"
  }
 },
 "nbformat": 4,
 "nbformat_minor": 5
}
