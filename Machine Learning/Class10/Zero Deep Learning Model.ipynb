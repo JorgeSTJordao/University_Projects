{
 "cells": [
  {
   "cell_type": "code",
   "execution_count": 2,
   "id": "49dd8730-bc3b-4be3-ad8d-fce2fe751ef0",
   "metadata": {},
   "outputs": [
    {
     "name": "stdout",
     "output_type": "stream",
     "text": [
      "Defaulting to user installation because normal site-packages is not writeable\n",
      "Requirement already satisfied: np_utils in /home/jorge/.local/lib/python3.10/site-packages (0.6.0)\n",
      "Requirement already satisfied: numpy>=1.0 in /home/jorge/.local/lib/python3.10/site-packages (from np_utils) (1.26.0)\n"
     ]
    }
   ],
   "source": [
    "!pip install np_utils"
   ]
  }
 ],
 "metadata": {
  "kernelspec": {
   "display_name": "Python 3 (ipykernel)",
   "language": "python",
   "name": "python3"
  },
  "language_info": {
   "codemirror_mode": {
    "name": "ipython",
    "version": 3
   },
   "file_extension": ".py",
   "mimetype": "text/x-python",
   "name": "python",
   "nbconvert_exporter": "python",
   "pygments_lexer": "ipython3",
   "version": "3.10.12"
  }
 },
 "nbformat": 4,
 "nbformat_minor": 5
}
