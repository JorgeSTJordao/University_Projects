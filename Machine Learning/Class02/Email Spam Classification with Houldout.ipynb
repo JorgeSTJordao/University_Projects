{
 "cells": [
  {
   "cell_type": "markdown",
   "metadata": {},
   "source": [
    "Importando as principais bibliotecas e pacotes"
   ]
  },
  {
   "cell_type": "code",
   "execution_count": 4,
   "metadata": {
    "id": "KrtjQLJvVglM",
    "scrolled": true
   },
   "outputs": [],
   "source": [
    "import pandas as pd\n",
    "from sklearn.neighbors import KNeighborsClassifier\n",
    "from sklearn.metrics import precision_score, recall_score, f1_score, ConfusionMatrixDisplay\n",
    "from sklearn.model_selection import GridSearchCV, train_test_split "
   ]
  },
  {
   "cell_type": "markdown",
   "metadata": {},
   "source": [
    "Definindo instâncias e atributos"
   ]
  },
  {
   "cell_type": "code",
   "execution_count": 5,
   "metadata": {
    "colab": {
     "base_uri": "https://localhost:8080/"
    },
    "id": "NpA7nISDqdVz",
    "outputId": "2a2b807a-7789-421a-881c-41a305fc93db"
   },
   "outputs": [],
   "source": [
    "data = pd.read_csv(\"spambase.csv\", header=None) \n",
    "vals = data.values\n",
    "att = data.columns"
   ]
  },
  {
   "cell_type": "markdown",
   "metadata": {},
   "source": [
    "Separando atributos de entrada em \"X_all\" e atributo alvo em \"y_all\""
   ]
  },
  {
   "cell_type": "code",
   "execution_count": 6,
   "metadata": {},
   "outputs": [
    {
     "name": "stdout",
     "output_type": "stream",
     "text": [
      "(4601, 57)\n",
      "(4601,)\n"
     ]
    }
   ],
   "source": [
    "X_all= vals[:,0:57]\n",
    "y_all= vals[:,57] \n",
    "\n",
    "print(X_all.shape)\n",
    "print(y_all.shape)"
   ]
  },
  {
   "cell_type": "markdown",
   "metadata": {},
   "source": [
    "Definindo os parâmetros e separando a base de dados entre treinamento e teste"
   ]
  },
  {
   "cell_type": "code",
   "execution_count": 7,
   "metadata": {},
   "outputs": [],
   "source": [
    "X = X_all\n",
    "y = y_all\n",
    "\n",
    "param_knn = [{'n_neighbors':[3,5,7, 9, 11], 'weights': ['uniform', 'distance']}]\n",
    "\n",
    "X, X_test, y, y_test = train_test_split(X,y, train_size=0.7, random_state=46, stratify=y)\n",
    "\n",
    "X, X_val, y, y_val = train_test_split(X,y, train_size=0.8, random_state=46, stratify=y)\n",
    "\n",
    "clf = KNeighborsClassifier()"
   ]
  },
  {
   "cell_type": "markdown",
   "metadata": {},
   "source": [
    "Usaremos o GridSearch para definir a melhor combinação de parâmetros possíveis e depois treinaremos o modelo"
   ]
  },
  {
   "cell_type": "code",
   "execution_count": 8,
   "metadata": {
    "colab": {
     "base_uri": "https://localhost:8080/",
     "height": 558
    },
    "id": "VW-6mWaefH4Q",
    "outputId": "d5a97db8-4fb2-4b63-bb7b-f4aab95ff510"
   },
   "outputs": [
    {
     "name": "stderr",
     "output_type": "stream",
     "text": [
      "C:\\Users\\jorge\\anaconda3\\Lib\\site-packages\\joblib\\externals\\loky\\backend\\context.py:110: UserWarning: Could not find the number of physical cores for the following reason:\n",
      "found 0 physical cores < 1\n",
      "Returning the number of logical cores instead. You can silence this warning by setting LOKY_MAX_CPU_COUNT to the number of cores you want to use.\n",
      "  warnings.warn(\n",
      "  File \"C:\\Users\\jorge\\anaconda3\\Lib\\site-packages\\joblib\\externals\\loky\\backend\\context.py\", line 217, in _count_physical_cores\n",
      "    raise ValueError(\n"
     ]
    },
    {
     "name": "stdout",
     "output_type": "stream",
     "text": [
      "Melhores parâmetros: {'n_neighbors': 7, 'weights': 'distance'}\n",
      "Acurácia: 0.80739 \n",
      "Precisão: 0.798\n",
      "Revocação: 0.799\n",
      "F1: 0.799\n"
     ]
    },
    {
     "data": {
      "text/plain": [
       "<sklearn.metrics._plot.confusion_matrix.ConfusionMatrixDisplay at 0x1bd4df322d0>"
      ]
     },
     "execution_count": 8,
     "metadata": {},
     "output_type": "execute_result"
    },
    {
     "data": {
      "image/png": "[encoded data removed]",
      "text/plain": [
       "<Figure size 640x480 with 2 Axes>"
      ]
     },
     "metadata": {},
     "output_type": "display_data"
    }
   ],
   "source": [
    "gs=GridSearchCV(clf, param_knn, cv=5)\n",
    "\n",
    "gs.fit(X_val, y_val)\n",
    "clf=gs.best_estimator_\n",
    "print(\"Melhores parâmetros:\", gs.best_params_)\n",
    "\n",
    "clf.fit(X,y)\n",
    "\n",
    "ypred=clf.predict(X_test)\n",
    "\n",
    "score=clf.score(X_test, y_test)\n",
    "print(\"Acurácia: %.5f \" % score)\n",
    "\n",
    "precision=precision_score(y_test, ypred, average=\"macro\")\n",
    "print(\"Precisão: %.3f\" % precision)\n",
    "\n",
    "recall=recall_score(y_test, ypred, average=\"macro\")\n",
    "print(\"Revocação: %.3f\" % recall)\n",
    "\n",
    "f1=f1_score(y_test, ypred, average=\"macro\")\n",
    "print(\"F1: %.3f\" % f1)\n",
    "\n",
    "ma=confusion_matrix(y_test, ypred)\n",
    "disp=ConfusionMatrixDisplay(ma, display_labels=['no_spam', 'spam'])\n",
    "disp.plot()"
   ]
  }
 ],
 "metadata": {
  "colab": {
   "provenance": []
  },
  "kernelspec": {
   "display_name": "Python 3 (ipykernel)",
   "language": "python",
   "name": "python3"
  },
  "language_info": {
   "codemirror_mode": {
    "name": "ipython",
    "version": 3
   },
   "file_extension": ".py",
   "mimetype": "text/x-python",
   "name": "python",
   "nbconvert_exporter": "python",
   "pygments_lexer": "ipython3",
   "version": "3.11.4"
  }
 },
 "nbformat": 4,
 "nbformat_minor": 1
}
