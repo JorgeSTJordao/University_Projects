{
 "cells": [
  {
   "cell_type": "code",
   "execution_count": 7,
   "id": "19933ddf",
   "metadata": {},
   "outputs": [
    {
     "name": "stdout",
     "output_type": "stream",
     "text": [
      "(4600, 57)\n",
      "(4600,)\n",
      "Precisão: 0.778\n",
      "Revocação: 0.779\n",
      "F1: 0.778\n",
      "Accuracy = 0.78768 \n",
      "Confusion Matrix:\n",
      "[[686 150]\n",
      " [143 401]]\n"
     ]
    }
   ],
   "source": [
    "# Treinando e avaliando modelo preditivo usando HOLDOUT E VALIDAÇÃO CRUZADA\n",
    "\n",
    "# Importa bibliotecas necessárias \n",
    "import numpy as np\n",
    "from sklearn.neighbors import KNeighborsClassifier\n",
    "from sklearn.naive_bayes import GaussianNB\n",
    "from sklearn.metrics import confusion_matrix, precision_score, recall_score, f1_score, ConfusionMatrixDisplay\n",
    "from sklearn.model_selection import train_test_split\n",
    "from sklearn.datasets import load_digits\n",
    "import pandas as pd\n",
    "\n",
    "\n",
    "# carregando a base de dados\n",
    "data = pd.read_csv(\"spambase.csv\")\n",
    "#print(data)\n",
    "\n",
    "# recupera os valores e nomes de atributos a partir do dataframe\n",
    "val=data.values\n",
    "att=data.columns\n",
    "\n",
    "# preparando os arrays X (atributos de entrada) e y (rótulos)\n",
    "X= val[:,0:57]\n",
    "y= val[:,57] \n",
    "\n",
    "#X, y = load_digits(return_X_y=True)\n",
    "print(X.shape)\n",
    "print(y.shape)\n",
    "\n",
    "# Holdout -> dividindo a base em treinamento (70%) e teste (30%), estratificada\n",
    "X_train, X_test, y_train, y_test = train_test_split(X,y,test_size=.3, random_state=42, stratify=y)\n",
    "\n",
    "# declara o classificador\n",
    "clfa = KNeighborsClassifier(n_neighbors=3)\n",
    "#clfa = GaussianNB()\n",
    "# principais parâmetros\n",
    "# n_neighbors - número de vizinhos\n",
    "# weights - define se utiliza ou não o inverso da distânci como peso\n",
    "# algorithm - define o uso de uma estrutura de dados para reduzir as comparações \n",
    "#             no momento de encontrar a vizinhança do teste\n",
    "# p - relaciona à métrica de distância utilizada \n",
    "\n",
    "# treina o classificador\n",
    "clfa = clfa.fit(X_train, y_train)\n",
    "\n",
    "# testa usando a base de testes\n",
    "ypred = predicted=clfa.predict(X_test)\n",
    "\n",
    "# calcula a acurácia na base de teste\n",
    "score=clfa.score(X_test, y_test)\n",
    "\n",
    "# calcula a precisão\n",
    "precision=precision_score(y_test, ypred, average=\"macro\")\n",
    "print(\"Precisão: %.3f\" % precision)\n",
    "\n",
    "# calcula revocação\n",
    "recall=recall_score(y_test, ypred, average=\"macro\")\n",
    "print(\"Revocação: %.3f\" % recall)\n",
    "\n",
    "# calcula a métrica f1 (média harmônica entre precisão e recall)\n",
    "f1=f1_score(y_test, ypred, average=\"macro\")\n",
    "print(\"F1: %.3f\" % f1)\n",
    "\n",
    "# calcula a matriz de confusão\n",
    "matrix = confusion_matrix(y_test, predicted)\n",
    "\n",
    "# apresenta os resultados\n",
    "print(\"Accuracy = %.5f \" % score)\n",
    "print(\"Confusion Matrix:\")\n",
    "print(matrix)"
   ]
  },
  {
   "cell_type": "code",
   "execution_count": null,
   "id": "000bdab8",
   "metadata": {},
   "outputs": [],
   "source": []
  }
 ],
 "metadata": {
  "kernelspec": {
   "display_name": "Python 3 (ipykernel)",
   "language": "python",
   "name": "python3"
  },
  "language_info": {
   "codemirror_mode": {
    "name": "ipython",
    "version": 3
   },
   "file_extension": ".py",
   "mimetype": "text/x-python",
   "name": "python",
   "nbconvert_exporter": "python",
   "pygments_lexer": "ipython3",
   "version": "3.9.7"
  }
 },
 "nbformat": 4,
 "nbformat_minor": 5
}
