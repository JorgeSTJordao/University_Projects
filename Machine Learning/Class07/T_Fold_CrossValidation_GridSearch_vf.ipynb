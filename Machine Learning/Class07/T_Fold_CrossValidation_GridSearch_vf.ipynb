{
 "cells": [
  {
   "cell_type": "code",
   "execution_count": null,
   "metadata": {
    "id": "9zF84UVVvj0v"
   },
   "outputs": [],
   "source": [
    "# Importar bibliotecas necessárias\n",
    "import numpy as np\n",
    "from sklearn.neighbors import KNeighborsClassifier\n",
    "from sklearn.tree import DecisionTreeClassifier\n",
    "from sklearn.naive_bayes import GaussianNB\n",
    "from sklearn.neural_network import MLPClassifier\n",
    "from sklearn import model_selection\n",
    "from sklearn.metrics import confusion_matrix, precision_score, recall_score, f1_score, ConfusionMatrixDisplay\n",
    "from sklearn.datasets import load_breast_cancer, load_digits"
   ]
  },
  {
   "cell_type": "code",
   "execution_count": 10,
   "metadata": {
    "colab": {
     "base_uri": "https://localhost:8080/"
    },
    "id": "KZi-78F20sHG",
    "outputId": "f5c900c9-52e0-46d2-9eb8-ed26088ad70c"
   },
   "outputs": [
    {
     "name": "stdout",
     "output_type": "stream",
     "text": [
      "(56961, 30)\n",
      "(56961,)\n",
      "Melhores parâmetros encontrados:  {'n_neighbors': 3, 'p': 1, 'weights': 'uniform'}\n"
     ]
    }
   ],
   "source": [
    "# Carregando a base de dados\n",
    "#X, y=load_breast_cancer(return_X_y=True)\n",
    "#X.shape\n",
    "X=np.load(\"Cred_features.npy\")\n",
    "y=np.load(\"Cred_labels.npy\")\n",
    "print(X.shape)\n",
    "print(y.shape)\n",
    "\n",
    "# Validação cruzada\n",
    "from sklearn.model_selection import train_test_split, GridSearchCV\n",
    "\n",
    "# Separando da base original uma parte para validação\n",
    "X,x_val,y,y_val=train_test_split(X,y,test_size=0.2,random_state=42, stratify=y)\n",
    "\n",
    "# Declara o modelo\n",
    "clf=KNeighborsClassifier()\n",
    "#clf=DecisionTreeClassifier()\n",
    "#clf=GaussianNB()\n",
    "#clf=MLPClassifier(max_iter=300, early_stopping=False, solver='adam')\n",
    "\n",
    "# parâmetros que o GridSearch utilizará em sua busca (KNN)\n",
    "parameters=[{'n_neighbors':[1,3,5,7,9,11],\n",
    "            'weights': ['uniform', 'distance'],\n",
    "            'p':[1,2]}]\n",
    "\n",
    "# parâmetros para árvore de classificação (DecisionTree)\n",
    "#parameters=[{'criterion':['gini', 'entropy', 'log_loss'],\n",
    "#             'max_depth': [None, 5, 10],\n",
    "#             'min_samples_split':[2, 5],\n",
    "#             'splitter':['random', 'best']}]\n",
    "\n",
    "# parâmetros para MLP (Rede Neural Artificial - MultiLayer Perceptron)\n",
    "#parameters=[{'hidden_layer_sizes':[16, (16, 8), (16, 8, 4)],\n",
    "#             'learning_rate': ['constant', 'invscaling'],\n",
    "#             'learning_rate_init':[0.01, 0.001, 0.0001],\n",
    "#             'activation':['relu', 'logistic', 'tanh'],\n",
    "#             'random_state':[10, 46, 37]}]\n",
    "\n",
    "# parâmetros Naive Bayes\n",
    "#parameters=[{'var_smoothing':[1e-09,1e-03, 1e-06]}]\n",
    "\n",
    "# Execução do GridSearch\n",
    "gs=GridSearchCV(clf, parameters, scoring='accuracy', cv=3, n_jobs=-1)\n",
    "gs.fit(x_val, y_val)\n",
    "\n",
    "# Mostrando a tabela de resultados do GrifSearch (opcional)\n",
    "#from tabulate import tabulate\n",
    "#import pandas as pd\n",
    "#df=gs.cv_results_\n",
    "#print(tabulate(df, headers='keys', tablefmt='psql'))\n",
    "print(\"Melhores parâmetros encontrados: \", gs.best_params_)\n",
    "\n",
    "# Recuperando os melhores resultados\n",
    "clf=gs.best_estimator_"
   ]
  },
  {
   "cell_type": "code",
   "execution_count": 11,
   "metadata": {},
   "outputs": [
    {
     "name": "stdout",
     "output_type": "stream",
     "text": [
      "Acurácia média: 0.998\n",
      "Desvio padrão: 0.000\n"
     ]
    }
   ],
   "source": [
    "result=model_selection.cross_val_score(clf, X, y, cv=5)\n",
    "print(\"Acurácia média: %.3f\" % result.mean())\n",
    "print(\"Desvio padrão: %.3f\" % result.std())"
   ]
  },
  {
   "cell_type": "code",
   "execution_count": null,
   "metadata": {},
   "outputs": [],
   "source": [
    "y_pred=model_selection.cross_val_predict(clf, X, y, cv=5)"
   ]
  },
  {
   "cell_type": "code",
   "execution_count": 12,
   "metadata": {
    "colab": {
     "base_uri": "https://localhost:8080/",
     "height": 571
    },
    "id": "42OwO4Au6Jao",
    "outputId": "c861c4d8-00c8-4b08-9123-91565d990b5b"
   },
   "outputs": [
    {
     "name": "stdout",
     "output_type": "stream",
     "text": [
      "Precision: 0.999\n",
      "Recall: 0.532\n",
      "f1: 0.560\n",
      "Matriz de Confusão\n"
     ]
    },
    {
     "data": {
      "text/plain": [
       "<sklearn.metrics._plot.confusion_matrix.ConfusionMatrixDisplay at 0x1c3e496dd00>"
      ]
     },
     "execution_count": 12,
     "metadata": {},
     "output_type": "execute_result"
    },
    {
     "data": {
      "image/png": "[encoded data removed]",
      "text/plain": [
       "<Figure size 432x288 with 2 Axes>"
      ]
     },
     "metadata": {
      "needs_background": "light"
     },
     "output_type": "display_data"
    }
   ],
   "source": [
    "# Usando validação cruzada com T=5 folds\n",
    "#result=model_selection.cross_val_score(clf, X, y, cv=5)\n",
    "#print(\"Acurácia média: %.3f\" % result.mean())\n",
    "#print(\"Desvio padrão: %.3f\" % result.std())\n",
    "\n",
    "# Calculando a predição para cada exempolo de teste\n",
    "y_pred=model_selection.cross_val_predict(clf, X, y, cv=5)\n",
    "\n",
    "# Calculando a predição para cada exemplo de teste\n",
    "#y_pred_proba=model_selection.cross_val_predict(clf, X, y, cv=5, method='predict_proba')\n",
    "\n",
    "# Calcular precisão\n",
    "precision=precision_score(y, y_pred, average='macro')\n",
    "\n",
    "# Calcular revocação\n",
    "recall=recall_score(y, y_pred, average='macro')\n",
    "\n",
    "# Calcular revocação\n",
    "f1=f1_score(y, y_pred, average='macro')\n",
    "\n",
    "print(\"Precision: %.3f\" % precision)\n",
    "print(\"Recall: %.3f\" % recall)\n",
    "print(\"f1: %.3f\" % f1)\n",
    "\n",
    "print(\"Matriz de Confusão\")\n",
    "matrix=confusion_matrix(y, y_pred)\n",
    "#print(matrix)\n",
    "disp=ConfusionMatrixDisplay(confusion_matrix=matrix,display_labels=clf.classes_)\n",
    "disp.plot()"
   ]
  },
  {
   "cell_type": "code",
   "execution_count": null,
   "metadata": {
    "colab": {
     "base_uri": "https://localhost:8080/",
     "height": 350
    },
    "id": "0Wx0HOQdxWdP",
    "outputId": "57fffacd-8a67-48f9-edf6-7a80c43184f5"
   },
   "outputs": [],
   "source": [
    "# plotando a árvore após treinamento com a base toda (EXECUTE SOMENTE PARA ÁRVORE)\n",
    "from sklearn import tree\n",
    "\n",
    "# carregando a base com todos os detalhes\n",
    "base=load_breast_cancer()\n",
    "X=base.data\n",
    "y=base.target\n",
    "att=base.feature_names\n",
    "\n",
    "clf=gs.best_estimator_\n",
    "clf.fit(X,y)\n",
    "\n",
    "import matplotlib.pyplot as plt\n",
    "import numpy as np\n",
    "from sklearn import tree\n",
    "\n",
    "_, ax = plt.subplots(figsize=(100,40))\n",
    "x=tree.plot_tree(clf, feature_names=att, filled=True, ax=ax, fontsize=40)\n",
    "\n",
    "print(clf.feature_importances_)"
   ]
  }
 ],
 "metadata": {
  "colab": {
   "provenance": []
  },
  "kernelspec": {
   "display_name": "Python 3 (ipykernel)",
   "language": "python",
   "name": "python3"
  },
  "language_info": {
   "codemirror_mode": {
    "name": "ipython",
    "version": 3
   },
   "file_extension": ".py",
   "mimetype": "text/x-python",
   "name": "python",
   "nbconvert_exporter": "python",
   "pygments_lexer": "ipython3",
   "version": "3.9.7"
  }
 },
 "nbformat": 4,
 "nbformat_minor": 1
}
