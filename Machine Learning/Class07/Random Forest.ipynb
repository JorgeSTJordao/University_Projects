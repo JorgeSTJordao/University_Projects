{
 "cells": [
  {
   "cell_type": "code",
   "execution_count": 1,
   "id": "4269fe7e",
   "metadata": {},
   "outputs": [
    {
     "name": "stderr",
     "output_type": "stream",
     "text": [
      "C:\\Users\\jorge\\anaconda3\\lib\\site-packages\\scipy\\__init__.py:146: UserWarning: A NumPy version >=1.16.5 and <1.23.0 is required for this version of SciPy (detected version 1.23.0\n",
      "  warnings.warn(f\"A NumPy version >={np_minversion} and <{np_maxversion}\"\n"
     ]
    }
   ],
   "source": [
    "import numpy as np\n",
    "from sklearn.ensemble import RandomForestClassifier\n",
    "from sklearn import model_selection\n",
    "from sklearn.metrics import confusion_matrix, precision_score, recall_score, f1_score, ConfusionMatrixDisplay"
   ]
  },
  {
   "cell_type": "code",
   "execution_count": 2,
   "id": "696a43c6",
   "metadata": {},
   "outputs": [
    {
     "name": "stdout",
     "output_type": "stream",
     "text": [
      "(56961, 30)\n",
      "(56961,)\n"
     ]
    }
   ],
   "source": [
    "X=np.load(\"Cred_features.npy\")\n",
    "y=np.load(\"Cred_labels.npy\")\n",
    "print(X.shape)\n",
    "print(y.shape)"
   ]
  },
  {
   "cell_type": "markdown",
   "id": "d61e3d0a",
   "metadata": {},
   "source": [
    "## Random Forest"
   ]
  },
  {
   "cell_type": "code",
   "execution_count": 3,
   "id": "9006fc1b",
   "metadata": {},
   "outputs": [
    {
     "name": "stderr",
     "output_type": "stream",
     "text": [
      "C:\\Users\\jorge\\anaconda3\\lib\\site-packages\\sklearn\\model_selection\\_search.py:922: UserWarning: One or more of the test scores are non-finite: [0.99894671 0.99903451 0.99903451 0.99903451 0.99903451 0.99929782\n",
      " 0.99938562 0.99947338 0.99956113 0.99938562 0.99912231 0.99956113\n",
      " 0.99964889 0.99956113 0.99956113 0.99894675 0.99903451 0.99903451\n",
      " 0.99903451 0.99903451 0.99903451 0.99938562 0.99938562 0.99938558\n",
      " 0.99938562 0.99912223 0.99947338 0.99947338 0.99938562 0.99938562\n",
      "        nan        nan        nan        nan        nan        nan\n",
      "        nan        nan        nan        nan        nan        nan\n",
      "        nan        nan        nan]\n",
      "  warnings.warn(\n"
     ]
    },
    {
     "name": "stdout",
     "output_type": "stream",
     "text": [
      "Os melhores parâmetros foram: {'criterion': 'gini', 'max_depth': 10, 'n_estimators': 50}\n"
     ]
    }
   ],
   "source": [
    "from sklearn.model_selection import train_test_split, GridSearchCV\n",
    "\n",
    "# Separando uma parte dos dados para validação (usaremos no GridSearchCV)\n",
    "X,X_val,y,y_val=train_test_split(X,y,test_size=0.2,random_state=42, stratify=y)\n",
    "\n",
    "#Parâmetros\n",
    "params = [{'n_estimators': [10, 25, 50, 75, 100], 'criterion': ['gini', 'entropy', 'log_loss'], 'max_depth': [2, 5, 10]}]\n",
    "\n",
    "clf = RandomForestClassifier()\n",
    "\n",
    "gs = GridSearchCV(clf, params, scoring='accuracy', cv=5, n_jobs=-1)\n",
    "gs.fit(X_val, y_val)\n",
    "\n",
    "clf = gs.best_estimator_\n",
    "print(f\"Os melhores parâmetros foram: {gs.best_params_}\")"
   ]
  },
  {
   "cell_type": "code",
   "execution_count": 11,
   "id": "5795aa3c",
   "metadata": {},
   "outputs": [
    {
     "name": "stdout",
     "output_type": "stream",
     "text": [
      "Acurácia média: 0.999\n",
      "Precisão: 0.95\n",
      "Revocação: 0.85\n",
      "F1: 0.90\n"
     ]
    },
    {
     "data": {
      "text/plain": [
       "<sklearn.metrics._plot.confusion_matrix.ConfusionMatrixDisplay at 0x2cccaf03fd0>"
      ]
     },
     "execution_count": 11,
     "metadata": {},
     "output_type": "execute_result"
    },
    {
     "data": {
      "image/png": "[encoded data removed]",
      "text/plain": [
       "<Figure size 432x288 with 2 Axes>"
      ]
     },
     "metadata": {
      "needs_background": "light"
     },
     "output_type": "display_data"
    }
   ],
   "source": [
    "# Usando validação cruzada com T=5 folds\n",
    "result=model_selection.cross_val_score(clf, X, y, cv=5)\n",
    "print(\"Acurácia média: %.3f\" % result.mean())\n",
    "\n",
    "#Calculando a predição para cada exemplo de teste\n",
    "y_pred=model_selection.cross_val_predict(clf, X, y, cv=5)\n",
    "\n",
    "#Cálculo de precisão\n",
    "precisao = precision_score(y, y_pred, average='macro')\n",
    "\n",
    "#Calculando a revocação\n",
    "recall = recall_score(y, y_pred, average='macro')\n",
    "\n",
    "#Calculando o F1-Score\n",
    "f1 = f1_score(y, y_pred, average='macro')\n",
    "\n",
    "print(\"Precisão: {:.2f}\".format(precisao))\n",
    "print(\"Revocação: {:.2f}\".format(recall))\n",
    "print(\"F1: {:.2f}\".format(f1))\n",
    "\n",
    "matrix=confusion_matrix(y, y_pred)\n",
    "disp=ConfusionMatrixDisplay(confusion_matrix=matrix,display_labels=['não_fraude', 'fraude'])\n",
    "disp.plot()"
   ]
  },
  {
   "cell_type": "code",
   "execution_count": null,
   "id": "82c90154",
   "metadata": {},
   "outputs": [],
   "source": []
  }
 ],
 "metadata": {
  "kernelspec": {
   "display_name": "Python 3 (ipykernel)",
   "language": "python",
   "name": "python3"
  },
  "language_info": {
   "codemirror_mode": {
    "name": "ipython",
    "version": 3
   },
   "file_extension": ".py",
   "mimetype": "text/x-python",
   "name": "python",
   "nbconvert_exporter": "python",
   "pygments_lexer": "ipython3",
   "version": "3.9.7"
  }
 },
 "nbformat": 4,
 "nbformat_minor": 5
}
