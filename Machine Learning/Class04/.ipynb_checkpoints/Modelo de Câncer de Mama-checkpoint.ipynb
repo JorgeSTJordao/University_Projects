{
 "cells": [
  {
   "cell_type": "code",
   "execution_count": 64,
   "id": "caf9859c",
   "metadata": {},
   "outputs": [],
   "source": [
    "import pandas as pd\n",
    "import numpy as np\n",
    "from sklearn.datasets import load_breast_cancer\n",
    "from sklearn.neighbors import KNeighborsClassifier\n",
    "from sklearn.tree import DecisionTreeClassifier \n",
    "from sklearn.naive_bayes import GaussianNB\n",
    "from sklearn.metrics import confusion_matrix, precision_score, recall_score, f1_score, ConfusionMatrixDisplay, accuracy_score\n",
    "from sklearn.model_selection import GridSearchCV, train_test_split "
   ]
  },
  {
   "cell_type": "markdown",
   "id": "981bb95e",
   "metadata": {},
   "source": [
    "## Modelo de Câncer de Mama"
   ]
  },
  {
   "cell_type": "markdown",
   "id": "9c1f1446",
   "metadata": {},
   "source": [
    "Separação de Dados"
   ]
  },
  {
   "cell_type": "code",
   "execution_count": 71,
   "id": "5793a908",
   "metadata": {},
   "outputs": [
    {
     "name": "stdout",
     "output_type": "stream",
     "text": [
      "(569, 30) (569,)\n"
     ]
    }
   ],
   "source": [
    "X, y = load_breast_cancer(return_X_y = True)\n",
    "print(X.shape, y.shape)"
   ]
  },
  {
   "cell_type": "markdown",
   "id": "7c2439ed",
   "metadata": {},
   "source": [
    "Aplicação do Modelo"
   ]
  },
  {
   "cell_type": "code",
   "execution_count": 72,
   "id": "11f03aca",
   "metadata": {},
   "outputs": [
    {
     "name": "stdout",
     "output_type": "stream",
     "text": [
      "Os melhores parâmetros foram: {'n_neighbors': 3}\n",
      "O valor da acurácia foi de 0.92\n",
      "O valor de precisão foi de 0.93\n",
      "O valor da revocação foi de 0.91\n",
      "O valor de F1 foi de 0.92\n"
     ]
    },
    {
     "data": {
      "text/plain": [
       "<sklearn.metrics._plot.confusion_matrix.ConfusionMatrixDisplay at 0x1a4fc4325b0>"
      ]
     },
     "execution_count": 72,
     "metadata": {},
     "output_type": "execute_result"
    },
    {
     "data": {
      "image/png": "[encoded data removed]",
      "text/plain": [
       "<Figure size 432x288 with 2 Axes>"
      ]
     },
     "metadata": {
      "needs_background": "light"
     },
     "output_type": "display_data"
    }
   ],
   "source": [
    "# Divisão de dados para aprendizado\n",
    "X, X_test, y, y_test = train_test_split(X,y, train_size=0.7, random_state=46, stratify=y)\n",
    "\n",
    "# Divisão de dados para validação\n",
    "X, X_val, y, y_val = train_test_split(X,y, train_size=0.8, random_state=46, stratify=y)\n",
    "\n",
    "# Declaração de parâmetros\n",
    "#params = [{\"criterion\" : [\"gini\", \"entropy\", \"log_loss\"], \"splitter\": [\"best\", \"random\"]}] # Árvore de Decisão\n",
    "# params = [{'n_neighbors': [1, 3, 5, 7, 9, 11]}] # K-Nearest Neighbors: Sem pesos\n",
    "#params = [{'n_neighbors': [1, 3, 5, 7, 9, 11], 'weights': ['uniform', 'distance']}] # K-Nearest Neighbors: Com pesos\n",
    "#params = [{'var_smoothing':[1e-09, 1e-03, 1e-06]}] # GaussianNB\n",
    "\n",
    "# Definição do classificador\n",
    "clf = KNeighborsClassifier()\n",
    "#clf = DecisionTreeClassifier()\n",
    "#clf = GaussianNB()\n",
    "\n",
    "gs = GridSearchCV(clf, params, cv=5)\n",
    "gs.fit(X_val, y_val)\n",
    "print(f\"Os melhores parâmetros foram: {gs.best_params_}\")\n",
    "\n",
    "\n",
    "clf = gs.best_estimator_\n",
    "\n",
    "clf.fit(X, y)\n",
    "\n",
    "y_pred = clf.predict(X_test)\n",
    "\n",
    "accuracy = accuracy_score(y_test, y_pred)\n",
    "print(\"O valor da acurácia foi de {:.2f}\".format(accuracy))\n",
    "\n",
    "precision = precision_score(y_test, y_pred, average=\"macro\")\n",
    "print(\"O valor de precisão foi de {:.2f}\".format(precision))\n",
    "\n",
    "recall = recall_score(y_test, y_pred, average=\"macro\")\n",
    "print(\"O valor da revocação foi de {:.2f}\".format(recall))\n",
    "\n",
    "f1 = f1_score(y_test, y_pred, average=\"macro\")\n",
    "print(\"O valor de F1 foi de {:.2f}\".format(f1))\n",
    "\n",
    "matrix = confusion_matrix(y_test, y_pred)\n",
    "display = ConfusionMatrixDisplay(matrix, display_labels=[\"maligno\", \"benigno\"])\n",
    "display.plot()"
   ]
  },
  {
   "cell_type": "code",
   "execution_count": null,
   "id": "e9de7e36",
   "metadata": {},
   "outputs": [],
   "source": []
  }
 ],
 "metadata": {
  "kernelspec": {
   "display_name": "Python 3 (ipykernel)",
   "language": "python",
   "name": "python3"
  },
  "language_info": {
   "codemirror_mode": {
    "name": "ipython",
    "version": 3
   },
   "file_extension": ".py",
   "mimetype": "text/x-python",
   "name": "python",
   "nbconvert_exporter": "python",
   "pygments_lexer": "ipython3",
   "version": "3.11.4"
  }
 },
 "nbformat": 4,
 "nbformat_minor": 5
}
