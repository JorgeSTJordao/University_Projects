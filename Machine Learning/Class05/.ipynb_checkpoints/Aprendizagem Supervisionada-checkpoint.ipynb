{
 "cells": [
  {
   "cell_type": "markdown",
   "metadata": {},
   "source": [
    "## Importar as bibliotecas"
   ]
  },
  {
   "cell_type": "code",
   "execution_count": null,
   "metadata": {
    "id": "9zF84UVVvj0v"
   },
   "outputs": [],
   "source": [
    "import numpy as np\n",
    "import pandas as pd\n",
    "from sklearn.neural_network import MLPClassifier\n",
    "from sklearn import model_selection\n",
    "from sklearn.metrics import confusion_matrix, precision_score, recall_score, f1_score, ConfusionMatrixDisplay\n",
    "from sklearn.datasets import load_breast_cancer, load_digits\n",
    "from sklearn.model_selection import train_test_split, GridSearchCV \n",
    "from tabulate import tabulate"
   ]
  },
  {
   "cell_type": "markdown",
   "metadata": {},
   "source": [
    "## Modelo K-NEAREST NEIGHBORS"
   ]
  },
  {
   "cell_type": "code",
   "execution_count": null,
   "metadata": {},
   "outputs": [],
   "source": [
    "from sklearn.neighbors import KNeighborsClassifier\n",
    "\n",
    "# Carregando a base de dados\n",
    "X, y=load_breast_cancer(return_X_y=True)\n",
    "X.shape\n",
    "\n",
    "# Separando da base original uma parte para validação\n",
    "X, x_val, y, y_val = train_test_split(X,y,test_size=0.2,random_state=42, stratify=y)\n",
    "\n",
    "clf=KNeighborsClassifier()\n",
    "\n",
    "param_KNN=[{'n_neighbors':[1,3,5,7,9,11], 'weights': ['uniform', 'distance'], 'p':[1,2]}]\n",
    "\n",
    "# Execução do GridSearch\n",
    "gs=GridSearchCV(clf, param_KNN, scoring='accuracy', cv=3, n_jobs=-1)\n",
    "gs.fit(x_val, y_val)\n",
    " \n",
    "#df=gs.cv_results_\n",
    "#print(tabulate(df, headers='keys', tablefmt='psql'))\n",
    "print(\"Melhores parâmetros encontrados: \", gs.best_params_)\n",
    "\n",
    "clf=gs.best_estimator_"
   ]
  },
  {
   "cell_type": "markdown",
   "metadata": {},
   "source": [
    "## Modelo ÁRVORE DE DECISÃO"
   ]
  },
  {
   "cell_type": "code",
   "execution_count": null,
   "metadata": {},
   "outputs": [],
   "source": [
    "# MODELO ÁRVORE DE DECISÃO\n",
    "from sklearn.tree import DecisionTreeClassifier\n",
    "\n",
    "# Carregando a base de dados\n",
    "X, y=load_breast_cancer(return_X_y=True)\n",
    "X.shape\n",
    "\n",
    "# Separando da base original uma parte para validação\n",
    "X, x_val, y, y_val = train_test_split(X,y,test_size=0.2,random_state=42, stratify=y)\n",
    "\n",
    "clf=DecisionTreeClassifier()\n",
    "\n",
    "# parâmetros para árvore de classificação (DecisionTree)\n",
    "param_Tree=[{'criterion':['gini', 'entropy', 'log_loss'], 'max_depth': [None, 5, 10], 'min_samples_split':[2, 5], \n",
    "             'splitter':['random', 'best']}]\n",
    "\n",
    "# Execução do GridSearch\n",
    "gs=GridSearchCV(clf, param_Tree, scoring='accuracy', cv=3, n_jobs=-1)\n",
    "gs.fit(x_val, y_val)\n",
    " \n",
    "#df=gs.cv_results_\n",
    "#print(tabulate(df, headers='keys', tablefmt='psql'))\n",
    "print(\"Melhores parâmetros encontrados: \", gs.best_params_)\n",
    "\n",
    "# Recuperando os melhores resultados\n",
    "clf=gs.best_estimator_"
   ]
  },
  {
   "cell_type": "markdown",
   "metadata": {},
   "source": [
    "## Modelo NAIVE BAYES"
   ]
  },
  {
   "cell_type": "code",
   "execution_count": null,
   "metadata": {},
   "outputs": [],
   "source": [
    "From sklearn.naive_bayes import GaussianNB\n",
    "\n",
    "# Carregando a base de dados\n",
    "X, y=load_breast_cancer(return_X_y=True)\n",
    "X.shape\n",
    "\n",
    "# Separando da base original uma parte para validação\n",
    "X, x_val, y, y_val = train_test_split(X,y,test_size=0.2,random_state=42, stratify=y)\n",
    "\n",
    "clf=GaussianNB()\n",
    "\n",
    "#parâmetros Naive Bayes\n",
    "param_Naive=[{'var_smoothing':[1e-09, 1e-03, 1e-06]}]\n",
    "\n",
    "# Execução do GridSearch\n",
    "gs=GridSearchCV(clf, param_Naive, scoring='accuracy', cv=3, n_jobs=-1)\n",
    "gs.fit(x_val, y_val)\n",
    " \n",
    "#df=gs.cv_results_\n",
    "#print(tabulate(df, headers='keys', tablefmt='psql'))\n",
    "print(\"Melhores parâmetros encontrados: \", gs.best_params_)\n",
    "\n",
    "# Recuperando os melhores resultados\n",
    "clf=gs.best_estimator_"
   ]
  },
  {
   "cell_type": "markdown",
   "metadata": {},
   "source": [
    "## Modelo MULTILAYER PERCEPTRON"
   ]
  },
  {
   "cell_type": "code",
   "execution_count": null,
   "metadata": {
    "colab": {
     "base_uri": "https://localhost:8080/"
    },
    "id": "KZi-78F20sHG",
    "outputId": "da9151aa-b0e0-4a68-f971-52318f48f3c1"
   },
   "outputs": [],
   "source": [
    "# MODELO MULTILAYER PERCEPTRON\n",
    "clf = MLPClassifier(max_iter=300, early_stopping=False)\n",
    "\n",
    "# parâmetros para árvore de classificação (Rede Neural Artificial - Multilayer Perceptron)\n",
    "parameters=[{'hidden_layer_sizes':[16, (16, 8), (16, 8, 4)],\n",
    "             'learning_rate': ['constant', 'invscaling'],\n",
    "             'learning_rate_init': [0.01, 0.001, 0.0001],\n",
    "             'activation': ['relu', 'logist', 'tanh'],\n",
    "             'random_state': [10, 46, 37]}]\n",
    "\n",
    "\n",
    "# Execução do GridSearch\n",
    "gs=GridSearchCV(clf, parameters, scoring='accuracy', cv=3, n_jobs=-1)\n",
    "gs.fit(x_val, y_val)\n",
    " \n",
    "df=gs.cv_results_\n",
    "print(tabulate(df, headers='keys', tablefmt='psql'))\n",
    "print(\"Melhores parâmetros encontrados: \", gs.best_params_)\n",
    "\n",
    "# Recuperando os melhores resultados\n",
    "clf=gs.best_estimator_"
   ]
  },
  {
   "cell_type": "markdown",
   "metadata": {},
   "source": [
    "## Métricas de Validação"
   ]
  },
  {
   "cell_type": "code",
   "execution_count": null,
   "metadata": {
    "colab": {
     "base_uri": "https://localhost:8080/",
     "height": 570
    },
    "id": "42OwO4Au6Jao",
    "outputId": "acd123b1-86ed-4de3-fe18-2f5a988a90e1"
   },
   "outputs": [],
   "source": [
    "# Usando validação cruzada com T=5 folds\n",
    "result=model_selection.cross_val_score(clf, X, y, cv=5)\n",
    "print(\"Acurácia média: %.3f\" % result.mean())\n",
    "print(\"Desvio padrão: %.3f\" % result.std())\n",
    "\n",
    "# Calculando a predição para cada exemplo de teste\n",
    "y_pred=model_selection.cross_val_predict(clf, X, y, cv=5)\n",
    "\n",
    "# Calculando a predição para cada exemplo de teste\n",
    "#y_pred_proba=model_selection.cross_val_predict(clf, X, y, cv=5, method='predict_proba')\n",
    "\n",
    "# Calcular precisão\n",
    "precision=precision_score(y, y_pred, average='weighted')\n",
    "\n",
    "# Calcular revocação\n",
    "recall=recall_score(y, y_pred, average='weighted')\n",
    "\n",
    "# Calcular revocação\n",
    "f1=f1_score(y, y_pred, average='weighted')\n",
    "\n",
    "print(\"Precision: %.3f\" % precision)\n",
    "print(\"Recall: %.3f\" % recall)\n",
    "print(\"f1: %.3f\" % f1)\n",
    "\n",
    "print(\"Matriz de Confusão\")\n",
    "matrix=confusion_matrix(y, y_pred)\n",
    "#print(matrix)\n",
    "disp=ConfusionMatrixDisplay(confusion_matrix=matrix,display_labels=clf.classes_)\n",
    "disp.plot()"
   ]
  }
 ],
 "metadata": {
  "colab": {
   "provenance": []
  },
  "kernelspec": {
   "display_name": "Python 3 (ipykernel)",
   "language": "python",
   "name": "python3"
  },
  "language_info": {
   "codemirror_mode": {
    "name": "ipython",
    "version": 3
   },
   "file_extension": ".py",
   "mimetype": "text/x-python",
   "name": "python",
   "nbconvert_exporter": "python",
   "pygments_lexer": "ipython3",
   "version": "3.11.4"
  }
 },
 "nbformat": 4,
 "nbformat_minor": 1
}
