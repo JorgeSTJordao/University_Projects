{
 "cells": [
  {
   "cell_type": "code",
   "execution_count": 2,
   "id": "18a47392",
   "metadata": {},
   "outputs": [],
   "source": [
    "import numpy as np\n",
    "from sklearn.linear_model import LogisticRegression\n",
    "from sklearn import model_selection\n",
    "from sklearn.metrics import confusion_matrix, precision_score, recall_score, f1_score, ConfusionMatrixDisplay"
   ]
  },
  {
   "cell_type": "code",
   "execution_count": 15,
   "id": "15d8e976",
   "metadata": {},
   "outputs": [
    {
     "name": "stdout",
     "output_type": "stream",
     "text": [
      "Total amostras:  (19611,)\n",
      "Qtde Malware Malignos:  14599\n",
      "Qtde Malware Benignos:  [5012]\n"
     ]
    }
   ],
   "source": [
    "import pandas as pd\n",
    "df = pd.read_csv('dataset_malwares.csv')\n",
    "\n",
    "X=df.drop(['Name', 'Machine', 'TimeDateStamp', 'Malware'],axis=1)\n",
    "#X.info()\n",
    "y=df['Malware']\n",
    "\n",
    "print(\"Total amostras: \", y.shape)\n",
    "print(\"Qtde Malware Malignos: \", np.count_nonzero(y, axis=0))\n",
    "print(\"Qtde Malware Benignos: \", y.shape - np.count_nonzero(y, axis=0))"
   ]
  },
  {
   "cell_type": "code",
   "execution_count": 25,
   "id": "7bce85cf",
   "metadata": {},
   "outputs": [
    {
     "name": "stderr",
     "output_type": "stream",
     "text": [
      "C:\\Users\\jorge\\anaconda3\\lib\\site-packages\\sklearn\\model_selection\\_search.py:922: UserWarning: One or more of the test scores are non-finite: [nan nan nan ... nan nan nan]\n",
      "  warnings.warn(\n"
     ]
    },
    {
     "name": "stdout",
     "output_type": "stream",
     "text": [
      "Os melhores parâmetros foram: {'max_iter': 300, 'multi_class': 'auto', 'penalty': 'l1', 'solver': 'liblinear', 'tol': 0.0001, 'warm_start': True}\n"
     ]
    },
    {
     "name": "stderr",
     "output_type": "stream",
     "text": [
      "C:\\Users\\jorge\\anaconda3\\lib\\site-packages\\sklearn\\svm\\_base.py:985: ConvergenceWarning: Liblinear failed to converge, increase the number of iterations.\n",
      "  warnings.warn(\"Liblinear failed to converge, increase \"\n"
     ]
    }
   ],
   "source": [
    "from sklearn.model_selection import train_test_split, GridSearchCV\n",
    " \n",
    "#Separação de dados\n",
    "X, X_val, y, y_val = train_test_split(X, y, test_size=0.2, random_state=46, stratify=y)\n",
    "\n",
    "#Parâmetros\n",
    "params = [{'penalty': [\"l1\", \"l2\", \"elasticnet\", None], 'tol': [1e-4, 1e-2, 1e-6], \n",
    "           'multi_class': ['auto', \"ovr\", \"multinomial\"], 'max_iter': [100, 200, 300], 'warm_start': [True, False],\n",
    "          'solver': ['lbfgs', 'liblinear', 'newton-cg', 'newton-cholesky', 'sag', 'saga']}]\n",
    "\n",
    "#Declaração do modelo\n",
    "clf = LogisticRegression()\n",
    "\n",
    "gs = GridSearchCV(clf, params, scoring='accuracy', cv=5, n_jobs=-1)\n",
    "gs.fit(X_val, y_val)\n",
    "\n",
    "print(\"Os melhores parâmetros foram: {}\".format(gs.best_params_))\n",
    "\n",
    "clf = gs.best_estimator_ "
   ]
  },
  {
   "cell_type": "code",
   "execution_count": 26,
   "id": "be1e9e09",
   "metadata": {},
   "outputs": [
    {
     "name": "stderr",
     "output_type": "stream",
     "text": [
      "C:\\Users\\jorge\\anaconda3\\lib\\site-packages\\sklearn\\svm\\_base.py:985: ConvergenceWarning: Liblinear failed to converge, increase the number of iterations.\n",
      "  warnings.warn(\"Liblinear failed to converge, increase \"\n",
      "C:\\Users\\jorge\\anaconda3\\lib\\site-packages\\sklearn\\svm\\_base.py:985: ConvergenceWarning: Liblinear failed to converge, increase the number of iterations.\n",
      "  warnings.warn(\"Liblinear failed to converge, increase \"\n",
      "C:\\Users\\jorge\\anaconda3\\lib\\site-packages\\sklearn\\svm\\_base.py:985: ConvergenceWarning: Liblinear failed to converge, increase the number of iterations.\n",
      "  warnings.warn(\"Liblinear failed to converge, increase \"\n",
      "C:\\Users\\jorge\\anaconda3\\lib\\site-packages\\sklearn\\svm\\_base.py:985: ConvergenceWarning: Liblinear failed to converge, increase the number of iterations.\n",
      "  warnings.warn(\"Liblinear failed to converge, increase \"\n",
      "C:\\Users\\jorge\\anaconda3\\lib\\site-packages\\sklearn\\svm\\_base.py:985: ConvergenceWarning: Liblinear failed to converge, increase the number of iterations.\n",
      "  warnings.warn(\"Liblinear failed to converge, increase \"\n"
     ]
    },
    {
     "name": "stdout",
     "output_type": "stream",
     "text": [
      "Acurácia média foi de: 0.96\n"
     ]
    },
    {
     "name": "stderr",
     "output_type": "stream",
     "text": [
      "C:\\Users\\jorge\\anaconda3\\lib\\site-packages\\sklearn\\svm\\_base.py:985: ConvergenceWarning: Liblinear failed to converge, increase the number of iterations.\n",
      "  warnings.warn(\"Liblinear failed to converge, increase \"\n",
      "C:\\Users\\jorge\\anaconda3\\lib\\site-packages\\sklearn\\svm\\_base.py:985: ConvergenceWarning: Liblinear failed to converge, increase the number of iterations.\n",
      "  warnings.warn(\"Liblinear failed to converge, increase \"\n",
      "C:\\Users\\jorge\\anaconda3\\lib\\site-packages\\sklearn\\svm\\_base.py:985: ConvergenceWarning: Liblinear failed to converge, increase the number of iterations.\n",
      "  warnings.warn(\"Liblinear failed to converge, increase \"\n",
      "C:\\Users\\jorge\\anaconda3\\lib\\site-packages\\sklearn\\svm\\_base.py:985: ConvergenceWarning: Liblinear failed to converge, increase the number of iterations.\n",
      "  warnings.warn(\"Liblinear failed to converge, increase \"\n"
     ]
    },
    {
     "name": "stdout",
     "output_type": "stream",
     "text": [
      "Precisão foi de 0.95\n",
      "Revocação foi de 0.94\n",
      "F1: 0.94\n"
     ]
    },
    {
     "name": "stderr",
     "output_type": "stream",
     "text": [
      "C:\\Users\\jorge\\anaconda3\\lib\\site-packages\\sklearn\\svm\\_base.py:985: ConvergenceWarning: Liblinear failed to converge, increase the number of iterations.\n",
      "  warnings.warn(\"Liblinear failed to converge, increase \"\n",
      "C:\\Users\\jorge\\anaconda3\\lib\\site-packages\\sklearn\\utils\\validation.py:70: FutureWarning: Pass display_labels=[1 0 1 ... 1 1 1] as keyword args. From version 1.0 (renaming of 0.25) passing these as positional arguments will result in an error\n",
      "  warnings.warn(f\"Pass {args_msg} as keyword args. From version \"\n"
     ]
    },
    {
     "data": {
      "text/plain": [
       "<sklearn.metrics._plot.confusion_matrix.ConfusionMatrixDisplay at 0x227c0ad4f40>"
      ]
     },
     "execution_count": 26,
     "metadata": {},
     "output_type": "execute_result"
    },
    {
     "data": {
      "image/png": "[encoded data removed]",
      "text/plain": [
       "<Figure size 432x288 with 2 Axes>"
      ]
     },
     "metadata": {
      "needs_background": "light"
     },
     "output_type": "display_data"
    }
   ],
   "source": [
    "acuracia_media = model_selection.cross_val_score(clf, X, y, cv=5)\n",
    "print(\"Acurácia média foi de: {:.2f}\".format(acuracia_media.mean())) \n",
    "\n",
    "y_pred = model_selection.cross_val_predict(clf, X, y, cv=5)\n",
    "\n",
    "#Precisão\n",
    "precisao = precision_score(y, y_pred, average='macro')\n",
    "\n",
    "#Revocação\n",
    "revocacao = recall_score(y, y_pred, average='macro')\n",
    "\n",
    "#F1-score\n",
    "f1 = f1_score(y, y_pred, average='macro')\n",
    "\n",
    "print(\"Precisão foi de {:.2f}\".format(precisao))\n",
    "print(\"Revocação foi de {:.2f}\".format(revocacao))\n",
    "print(\"F1: {:.2f}\".format(f1))\n",
    "\n",
    "matrix=ConfusionMatrixDisplay(y, y_pred)\n",
    "cm = confusion_matrix(y, y_pred, labels=clf.classes_)\n",
    "disp = ConfusionMatrixDisplay(confusion_matrix=cm, display_labels=['benigno', 'maligno'])\n",
    "disp.plot()"
   ]
  },
  {
   "cell_type": "code",
   "execution_count": null,
   "id": "d4f3ffae",
   "metadata": {},
   "outputs": [],
   "source": []
  }
 ],
 "metadata": {
  "kernelspec": {
   "display_name": "Python 3 (ipykernel)",
   "language": "python",
   "name": "python3"
  },
  "language_info": {
   "codemirror_mode": {
    "name": "ipython",
    "version": 3
   },
   "file_extension": ".py",
   "mimetype": "text/x-python",
   "name": "python",
   "nbconvert_exporter": "python",
   "pygments_lexer": "ipython3",
   "version": "3.10.12"
  }
 },
 "nbformat": 4,
 "nbformat_minor": 5
}
