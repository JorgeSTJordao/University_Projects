{
  "nbformat": 4,
  "nbformat_minor": 0,
  "metadata": {
    "colab": {
      "name": "Exerc1.ipynb",
      "provenance": []
    },
    "kernelspec": {
      "name": "python3",
      "display_name": "Python 3"
    },
    "language_info": {
      "name": "python"
    },
    "accelerator": "GPU"
  },
  "cells": [
    {
      "cell_type": "code",
      "execution_count": 1,
      "metadata": {
        "colab": {
          "base_uri": "https://localhost:8080/"
        },
        "id": "HkXz0FmIuhs4",
        "outputId": "31376e57-8db2-464b-8b96-b0bb9edc46f5"
      },
      "outputs": [
        {
          "output_type": "stream",
          "name": "stdout",
          "text": [
            "Downloading data from https://storage.googleapis.com/tensorflow/keras-applications/resnet/resnet50_weights_tf_dim_ordering_tf_kernels_notop.h5\n",
            "94773248/94765736 [==============================] - 1s 0us/step\n",
            "94781440/94765736 [==============================] - 1s 0us/step\n"
          ]
        }
      ],
      "source": [
        "# Importando a CNN pré-treinada\n",
        "from tensorflow.keras.applications.resnet50 import preprocess_input, ResNet50\n",
        "model = ResNet50(weights=\"imagenet\", include_top=False, pooling=max)\n"
      ]
    },
    {
      "cell_type": "code",
      "source": [
        "# carregando a base de dados\n",
        "from keras.datasets import cifar10\n",
        "(trainX, trainY), (testX, testY) = cifar10.load_data()\n",
        "print(trainX.shape)\n",
        "print(trainY.shape)\n",
        "print(testX.shape)\n",
        "print(testY.shape)"
      ],
      "metadata": {
        "colab": {
          "base_uri": "https://localhost:8080/"
        },
        "id": "h2x--Nae7Cpb",
        "outputId": "380b40b9-c705-4e7a-b2ac-0edb1a2e328a"
      },
      "execution_count": 2,
      "outputs": [
        {
          "output_type": "stream",
          "name": "stdout",
          "text": [
            "Downloading data from https://www.cs.toronto.edu/~kriz/cifar-10-python.tar.gz\n",
            "170500096/170498071 [==============================] - 9s 0us/step\n",
            "170508288/170498071 [==============================] - 9s 0us/step\n",
            "(50000, 32, 32, 3)\n",
            "(50000, 1)\n",
            "(10000, 32, 32, 3)\n",
            "(10000, 1)\n"
          ]
        }
      ]
    },
    {
      "cell_type": "code",
      "source": [
        "import cv2\n",
        "import numpy as np\n",
        "w=64\n",
        "h=64\n",
        "Xtrain_new=[]\n",
        "#ytrain_new=[]\n",
        "\n",
        "# aumentando o tamanho das imagens de treinamento\n",
        "for i in range(trainX.shape[0]):\n",
        "  im=cv2.resize(trainX[i], (w, h))\n",
        "  Xtrain_new.append(im)\n",
        "#  ytrain_new.append(trainY[i])\n",
        "\n",
        "# aumentando o tamanho das imagens de teste\n",
        "Xtest_new=[]\n",
        "for i in range(testX.shape[0]):\n",
        "  im=cv2.resize(testX[i], (w, h))\n",
        "  Xtest_new.append(im)\n",
        "\n",
        "# transformando lista em array\n",
        "trainX=np.asarray(Xtrain_new)\n",
        "testX=np.asarray(Xtest_new)\n",
        "#trainY=np.asarray(ytrain_new)\n",
        "\n",
        "del(Xtrain_new)\n",
        "del(Xtest_new)\n",
        "#del(ytrain_new)\n",
        "\n",
        "print(trainX.shape)\n",
        "print(testX.shape)"
      ],
      "metadata": {
        "colab": {
          "base_uri": "https://localhost:8080/"
        },
        "id": "bf6CRpbA8TCH",
        "outputId": "273512f5-583d-471a-a30b-d5165936afd4"
      },
      "execution_count": 3,
      "outputs": [
        {
          "output_type": "stream",
          "name": "stdout",
          "text": [
            "(50000, 64, 64, 3)\n",
            "(10000, 64, 64, 3)\n"
          ]
        }
      ]
    },
    {
      "cell_type": "code",
      "source": [
        "# Extração de características usando a CNN\n",
        "trainX=preprocess_input(trainX)\n",
        "testX=preprocess_input(testX)\n",
        "\n",
        "# extraindo features das imagens de treinamento\n",
        "feat_train=model.predict(trainX)\n",
        "del(trainX)\n",
        "\n",
        "# extraindo features das imagens de teste\n",
        "feat_test=model.predict(testX)\n",
        "del(testX)\n",
        "\n",
        "print(feat_train.shape)\n",
        "print(feat_test.shape)"
      ],
      "metadata": {
        "colab": {
          "base_uri": "https://localhost:8080/"
        },
        "id": "KL_BICTtBzz3",
        "outputId": "21df33eb-6dcf-4c73-826c-bc648e0fd54b"
      },
      "execution_count": 4,
      "outputs": [
        {
          "output_type": "stream",
          "name": "stdout",
          "text": [
            "(50000, 2, 2, 2048)\n",
            "(10000, 2, 2, 2048)\n"
          ]
        }
      ]
    },
    {
      "cell_type": "code",
      "source": [
        "# Reshape das fearures para transformar em um vetor (2x2x2048=8192)\n",
        "\n",
        "feat_train=np.reshape(feat_train, (feat_train.shape[0], 8192))\n",
        "feat_test=np.reshape(feat_test, (feat_test.shape[0], 8192))\n",
        "print(feat_train.shape)\n",
        "print(feat_test.shape)"
      ],
      "metadata": {
        "colab": {
          "base_uri": "https://localhost:8080/"
        },
        "id": "IUW66gIaEcB0",
        "outputId": "320c5329-5f5a-4c3e-accd-56b106bf8863"
      },
      "execution_count": 5,
      "outputs": [
        {
          "output_type": "stream",
          "name": "stdout",
          "text": [
            "(50000, 8192)\n",
            "(10000, 8192)\n"
          ]
        }
      ]
    },
    {
      "cell_type": "code",
      "source": [
        "# Criando um classificador com as features extraídas\n",
        "from sklearn.neighbors import KNeighborsClassifier\n",
        "from sklearn.metrics import confusion_matrix\n",
        "\n",
        "y_train=np.ravel(trainY)\n",
        "y_test=np.ravel(testY)\n",
        "\n",
        "# declarando o indutor\n",
        "clf=KNeighborsClassifier(n_neighbors=3)\n",
        "\n",
        "# treinar o classificador\n",
        "clf.fit(feat_train, y_train)\n",
        "\n",
        "# avaliando o modelo\n",
        "score=clf.score(feat_test, y_test)\n",
        "print(\"Accuracy = %.2f\" % (score*100))\n",
        "\n",
        "# predição do modelo para cada exemplo de teste\n",
        "y_pred=clf.predict(feat_test)\n",
        "\n",
        "# matriz de confusão\n",
        "ma=confusion_matrix(y_test, y_pred)\n",
        "print(\"Matriz de Confusão:\")\n",
        "print(ma)\n",
        "\n",
        "\n"
      ],
      "metadata": {
        "colab": {
          "base_uri": "https://localhost:8080/"
        },
        "id": "LRIGcQR6EkDg",
        "outputId": "61de5286-9f93-44e7-97fd-f2003468e45d"
      },
      "execution_count": 6,
      "outputs": [
        {
          "output_type": "stream",
          "name": "stdout",
          "text": [
            "Accuracy = 69.67\n",
            "Matriz de Confusão:\n",
            "[[811  23  32   4  19   2  10   6  64  29]\n",
            " [ 36 829   5   5  10   0   3   2  16  94]\n",
            " [ 84   9 663  24  79  17 108   7   5   4]\n",
            " [ 69  43  93 439  93  84 142  23   4  10]\n",
            " [ 49   8  84  22 622  10 137  59   5   4]\n",
            " [ 29  22  63 162  64 562  58  35   3   2]\n",
            " [ 20   7  59  36  48   2 824   1   2   1]\n",
            " [ 40  15  45  39 112  29   8 695   9   8]\n",
            " [110  46   8   8  15   1   8   1 775  28]\n",
            " [ 54 137   5   8   9   1   5   5  29 747]]\n"
          ]
        }
      ]
    }
  ]
}