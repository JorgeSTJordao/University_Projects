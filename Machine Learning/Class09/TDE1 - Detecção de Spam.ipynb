{
 "cells": [
  {
   "cell_type": "code",
   "execution_count": 5,
   "id": "300bfcdd",
   "metadata": {},
   "outputs": [],
   "source": [
    "import pandas as pd\n",
    "\n",
    "# Classifiers and Ensembles\n",
    "from sklearn.neighbors import KNeighborsClassifier\n",
    "from sklearn.tree import DecisionTreeClassifier\n",
    "from sklearn.naive_bayes import GaussianNB\n",
    "from sklearn.neural_network import MLPClassifier\n",
    "from sklearn.svm import SVC\n",
    "from sklearn.ensemble import RandomForestClassifier\n",
    "from sklearn.ensemble import BaggingClassifier\n",
    "from sklearn.ensemble import AdaBoostClassifier\n",
    "\n",
    "# Metrics\n",
    "from sklearn import model_selection\n",
    "from sklearn.metrics import confusion_matrix, precision_score, recall_score, f1_score, ConfusionMatrixDisplay\n",
    "from sklearn.model_selection import train_test_split, GridSearchCV"
   ]
  },
  {
   "cell_type": "code",
   "execution_count": 6,
   "id": "0352c21e",
   "metadata": {},
   "outputs": [],
   "source": [
    "# Carregando os dados\n",
    "data=pd.read_csv(\"spambase.csv\", header=None)\n",
    "\n",
    "# Transformando em Numpy\n",
    "val=data.values\n",
    "att=data.columns\n",
    "X_all=val[:,0:57]\n",
    "y_all=val[:,57]\n",
    "\n",
    "# Mostrando o formato de X e y\n",
    "#print(X.shape)\n",
    "#print(y.shape)"
   ]
  },
  {
   "cell_type": "code",
   "execution_count": 23,
   "id": "2aabc060",
   "metadata": {},
   "outputs": [
    {
     "name": "stdout",
     "output_type": "stream",
     "text": [
      "Melhores parâmetros encontrados:  {'activation': 'logistic', 'hidden_layer_sizes': (16, 8, 4), 'learning_rate': 'constant', 'learning_rate_init': 0.001, 'random_state': 37}\n"
     ]
    },
    {
     "name": "stderr",
     "output_type": "stream",
     "text": [
      "C:\\Users\\jorge\\anaconda3\\Lib\\site-packages\\sklearn\\neural_network\\_multilayer_perceptron.py:691: ConvergenceWarning: Stochastic Optimizer: Maximum iterations (200) reached and the optimization hasn't converged yet.\n",
      "  warnings.warn(\n"
     ]
    }
   ],
   "source": [
    "X = X_all\n",
    "y = y_all\n",
    "\n",
    "def classifier_select(fselect):\n",
    "    \n",
    "    # KNeighborsClassifier\n",
    "    if fselect == 1:\n",
    "\n",
    "        knn_params=[{'n_neighbors':[1,3,5,7,9,11], 'weights': ['uniform', 'distance'], 'p':[1,2]}]\n",
    "        knn = KNeighborsClassifier()\n",
    "        \n",
    "        return knn_params, knn\n",
    "        \n",
    "    # Naive Bayes\n",
    "    elif fselect == 2:\n",
    "        \n",
    "        nb_params=[{'var_smoothing':[1e-09,1e-03, 1e-06]}]\n",
    "        nb = GaussianNB()\n",
    "    \n",
    "        return nb_params, nb\n",
    "        \n",
    "    # Decision Tree\n",
    "    elif fselect == 3:\n",
    "        \n",
    "        dc_params=[{'criterion':['gini', 'entropy', 'log_loss'],\n",
    "            'max_depth': [None, 5, 10],\n",
    "            'min_samples_split':[2, 5, 10],\n",
    "            'splitter':['random', 'best']}] \n",
    "        dt = DecisionTreeClassifier()\n",
    "        \n",
    "        return dc_params, dt\n",
    "        \n",
    "    # Multilayer perceptron\n",
    "    elif fselect == 4:\n",
    "        \n",
    "        mlp_params=[{'hidden_layer_sizes':[16, (16, 8), (16, 8, 4)],\n",
    "                   'learning_rate': ['constant', 'invscaling'],\n",
    "                    'learning_rate_init':[0.01, 0.001, 0.0001],\n",
    "                    'activation':['relu', 'logistic', 'tanh'],\n",
    "                   'random_state':[10, 46, 37]}] \n",
    "        mlp = MLPClassifier()\n",
    "        \n",
    "        return mlp_params, mlp \n",
    "        \n",
    "    # Support Vector Machine\n",
    "    else:\n",
    "        svm_params=[{'kernel':[\"linear\", \"poly\"]}]\n",
    "        svm = SVC()\n",
    "        \n",
    "        return svm_params, svm\n",
    "\n",
    "params, clf = classifier_select(4)\n",
    "    \n",
    "X,X_val,y,y_val = train_test_split(X, y, test_size=0.2, random_state=42, stratify=y)\n",
    "\n",
    "\n",
    "gs=GridSearchCV(clf, params, scoring='accuracy', cv=5, n_jobs=-1)\n",
    "\n",
    "gs.fit(X_val, y_val)\n",
    "\n",
    "#df=gs.cv_results_\n",
    "#df = pd.DataFrame(gs.cv_results_)\n",
    "print(\"Melhores parâmetros encontrados: \", gs.best_params_)\n",
    "\n",
    "clf = gs.best_estimator_\n",
    "#df"
   ]
  },
  {
   "cell_type": "code",
   "execution_count": 25,
   "id": "f354830d",
   "metadata": {},
   "outputs": [
    {
     "name": "stdout",
     "output_type": "stream",
     "text": [
      "[KNeighborsClassifier(), GaussianNB(), DecisionTreeClassifier(), MLPClassifier(), SVC()]\n",
      "Melhores parâmetros encontrados:  {'criterion': 'log_loss', 'max_depth': 12, 'n_estimators': 100}\n"
     ]
    }
   ],
   "source": [
    "X = X_all\n",
    "y = y_all\n",
    "\n",
    "estimators = []\n",
    "\n",
    "for i in range(5):\n",
    "    params, clf = classifier_select(i + 1)\n",
    "    estimators.append(clf)\n",
    "\n",
    "print(estimators)\n",
    "    \n",
    "def ensemble_select(fselect, festimators):\n",
    "    \n",
    "    if fselect == 1:\n",
    "        adc = AdaBoostClassifier()\n",
    "        adc_params = [{'estimator': festimators, \n",
    "                       'n_estimators': [10, 25, 50, 75, 100], \n",
    "                       'learning_rate': [0.7, 0.8, 1]}] \n",
    "        \n",
    "        return adc, adc_params\n",
    "\n",
    "    elif fselect == 2:\n",
    "        rfc = RandomForestClassifier()\n",
    "        rfc_params = [{'n_estimators': [10, 25, 50, 75, 100], \n",
    "                       \"criterion\": [\"gini\", 'entropy', \"log_loss\"], \n",
    "                       \"max_depth\": [10, 11, 12]}]\n",
    "        \n",
    "        return rfc, rfc_params\n",
    "    \n",
    "    else:\n",
    "        bg = BaggingClassifier()\n",
    "        bg_params = [{'estimator': festimators, \n",
    "                      'n_estimators': [10, 25, 50, 75, 100], \n",
    "                      'max_samples': [0.7, 0.8, 1]}]\n",
    "        \n",
    "        return bg, bg_params\n",
    "        \n",
    "\n",
    "clf, params = ensemble_select(2, estimators)\n",
    "\n",
    "X,X_val,y,y_val=train_test_split(X,y,test_size=0.2,random_state=42, stratify=y)\n",
    "\n",
    "gs=GridSearchCV(clf, params, scoring='accuracy', cv=5, n_jobs=-1)\n",
    "\n",
    "gs.fit(X_val, y_val)\n",
    "#df=gs.cv_results_\n",
    "#df = pd.DataFrame(gs.cv_results_)\n",
    "print(\"Melhores parâmetros encontrados: \", gs.best_params_)\n",
    "\n",
    "clf=gs.best_estimator_\n",
    "#df"
   ]
  },
  {
   "cell_type": "code",
   "execution_count": 26,
   "id": "63e28d18",
   "metadata": {
    "scrolled": true
   },
   "outputs": [
    {
     "name": "stdout",
     "output_type": "stream",
     "text": [
      "Acurácia média: 0.947\n",
      "Desvio padrão: 0.013\n",
      "Precision: 0.947\n",
      "Recall: 0.939\n",
      "f1: 0.943\n"
     ]
    },
    {
     "data": {
      "text/plain": [
       "<sklearn.metrics._plot.confusion_matrix.ConfusionMatrixDisplay at 0x1e0021e1290>"
      ]
     },
     "execution_count": 26,
     "metadata": {},
     "output_type": "execute_result"
    },
    {
     "data": {
      "image/png": "[encoded data removed]",
      "text/plain": [
       "<Figure size 640x480 with 2 Axes>"
      ]
     },
     "metadata": {},
     "output_type": "display_data"
    }
   ],
   "source": [
    "result=model_selection.cross_val_score(clf, X, y, cv=5)\n",
    "print(\"Acurácia média: %.3f\" % result.mean())\n",
    "print(\"Desvio padrão: %.3f\" % result.std())\n",
    "\n",
    "# Calculando a predição para cada exemplo de teste\n",
    "y_pred=model_selection.cross_val_predict(clf, X, y, cv=5)\n",
    "\n",
    "# Calcular precisão\n",
    "precision=precision_score(y, y_pred, average='macro')\n",
    "\n",
    "# Calcular revocação\n",
    "recall=recall_score(y, y_pred, average='macro')\n",
    "\n",
    "# Calcular revocação\n",
    "f1=f1_score(y, y_pred, average='macro')\n",
    "\n",
    "print(\"Precision: %.3f\" % precision)\n",
    "print(\"Recall: %.3f\" % recall)\n",
    "print(\"f1: %.3f\" % f1)\n",
    "\n",
    "cm = confusion_matrix(y, y_pred, labels=clf.classes_)\n",
    "disp = ConfusionMatrixDisplay(confusion_matrix=cm, display_labels=['não_spam', 'spam'])\n",
    "disp.plot()"
   ]
  },
  {
   "cell_type": "code",
   "execution_count": null,
   "id": "ddace20e",
   "metadata": {},
   "outputs": [],
   "source": []
  }
 ],
 "metadata": {
  "kernelspec": {
   "display_name": "Python 3 (ipykernel)",
   "language": "python",
   "name": "python3"
  },
  "language_info": {
   "codemirror_mode": {
    "name": "ipython",
    "version": 3
   },
   "file_extension": ".py",
   "mimetype": "text/x-python",
   "name": "python",
   "nbconvert_exporter": "python",
   "pygments_lexer": "ipython3",
   "version": "3.11.4"
  }
 },
 "nbformat": 4,
 "nbformat_minor": 5
}
